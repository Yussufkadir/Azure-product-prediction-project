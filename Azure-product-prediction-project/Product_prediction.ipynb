{
  "cells": [
    {
      "cell_type": "markdown",
      "source": [
        "# _**First step: downloading necessary initiators to work in notebook and setting up environment**_"
      ],
      "metadata": {
        "nteract": {
          "transient": {
            "deleting": false
          }
        }
      }
    },
    {
      "cell_type": "code",
      "source": [
        "%pip install azure-storage-blob"
      ],
      "outputs": [
        {
          "output_type": "stream",
          "name": "stdout",
          "text": "Requirement already satisfied: azure-storage-blob in /anaconda/envs/azureml_py38/lib/python3.9/site-packages (12.13.0)\nRequirement already satisfied: azure-core<2.0.0,>=1.23.1 in /anaconda/envs/azureml_py38/lib/python3.9/site-packages (from azure-storage-blob) (1.30.1)\nRequirement already satisfied: cryptography>=2.1.4 in /anaconda/envs/azureml_py38/lib/python3.9/site-packages (from azure-storage-blob) (38.0.4)\nRequirement already satisfied: msrest>=0.6.21 in /anaconda/envs/azureml_py38/lib/python3.9/site-packages (from azure-storage-blob) (0.7.1)\nRequirement already satisfied: typing-extensions>=4.6.0 in /anaconda/envs/azureml_py38/lib/python3.9/site-packages (from azure-core<2.0.0,>=1.23.1->azure-storage-blob) (4.12.2)\nRequirement already satisfied: six>=1.11.0 in /anaconda/envs/azureml_py38/lib/python3.9/site-packages (from azure-core<2.0.0,>=1.23.1->azure-storage-blob) (1.16.0)\nRequirement already satisfied: requests>=2.21.0 in /anaconda/envs/azureml_py38/lib/python3.9/site-packages (from azure-core<2.0.0,>=1.23.1->azure-storage-blob) (2.31.0)\nRequirement already satisfied: cffi>=1.12 in /anaconda/envs/azureml_py38/lib/python3.9/site-packages (from cryptography>=2.1.4->azure-storage-blob) (1.16.0)\nRequirement already satisfied: requests-oauthlib>=0.5.0 in /anaconda/envs/azureml_py38/lib/python3.9/site-packages (from msrest>=0.6.21->azure-storage-blob) (2.0.0)\nRequirement already satisfied: isodate>=0.6.0 in /anaconda/envs/azureml_py38/lib/python3.9/site-packages (from msrest>=0.6.21->azure-storage-blob) (0.6.1)\nRequirement already satisfied: certifi>=2017.4.17 in /anaconda/envs/azureml_py38/lib/python3.9/site-packages (from msrest>=0.6.21->azure-storage-blob) (2022.9.24)\nRequirement already satisfied: pycparser in /anaconda/envs/azureml_py38/lib/python3.9/site-packages (from cffi>=1.12->cryptography>=2.1.4->azure-storage-blob) (2.22)\nRequirement already satisfied: idna<4,>=2.5 in /anaconda/envs/azureml_py38/lib/python3.9/site-packages (from requests>=2.21.0->azure-core<2.0.0,>=1.23.1->azure-storage-blob) (3.7)\nRequirement already satisfied: urllib3<3,>=1.21.1 in /anaconda/envs/azureml_py38/lib/python3.9/site-packages (from requests>=2.21.0->azure-core<2.0.0,>=1.23.1->azure-storage-blob) (1.26.18)\nRequirement already satisfied: charset-normalizer<4,>=2 in /anaconda/envs/azureml_py38/lib/python3.9/site-packages (from requests>=2.21.0->azure-core<2.0.0,>=1.23.1->azure-storage-blob) (3.3.2)\nRequirement already satisfied: oauthlib>=3.0.0 in /anaconda/envs/azureml_py38/lib/python3.9/site-packages (from requests-oauthlib>=0.5.0->msrest>=0.6.21->azure-storage-blob) (3.2.2)\nNote: you may need to restart the kernel to use updated packages.\n"
        }
      ],
      "execution_count": 1,
      "metadata": {
        "gather": {
          "logged": 1726198864582
        }
      }
    },
    {
      "cell_type": "code",
      "source": [
        "!which python"
      ],
      "outputs": [
        {
          "output_type": "stream",
          "name": "stdout",
          "text": "/anaconda/envs/azureml_py38/bin//python\r\n"
        }
      ],
      "execution_count": 2,
      "metadata": {
        "jupyter": {
          "outputs_hidden": false,
          "source_hidden": false
        },
        "nteract": {
          "transient": {
            "deleting": false
          }
        }
      }
    },
    {
      "cell_type": "code",
      "source": [
        "!pip show python-dotenv"
      ],
      "outputs": [
        {
          "output_type": "stream",
          "name": "stdout",
          "text": "Name: python-dotenv\r\nVersion: 1.0.1\r\nSummary: Read key-value pairs from a .env file and set them as environment variables\r\nHome-page: https://github.com/theskumar/python-dotenv\r\nAuthor: Saurabh Kumar\r\nAuthor-email: me+github@saurabh-kumar.com\r\nLicense: BSD-3-Clause\r\nLocation: /anaconda/envs/azureml_py38/lib/python3.9/site-packages\r\nRequires: \r\nRequired-by: \r\n"
        }
      ],
      "execution_count": 3,
      "metadata": {
        "jupyter": {
          "outputs_hidden": false,
          "source_hidden": false
        },
        "nteract": {
          "transient": {
            "deleting": false
          }
        }
      }
    },
    {
      "cell_type": "code",
      "source": [
        "from azure.storage.blob import BlobServiceClient\n",
        "import pandas as pd\n",
        "import numpy as np\n",
        "import io \n",
        "from dotenv import load_dotenv\n",
        "import os\n",
        "\n",
        "load_dotenv()\n",
        "\n",
        "account_name = os.getenv(\"account_name\")\n",
        "account_key = os.getenv(\"account_key\")\n",
        "container_name = os.getenv(\"container_name\")\n",
        "blob_name = \"amazon.csv\"\n",
        "\n",
        "print(f\"account name is: {account_name}\")\n",
        "print(f\"container name is: {container_name}\")\n",
        "print(f\"blob name: {blob_name}\")\n",
        "\n",
        "blob_service_client = BlobServiceClient(account_url=f\"https://{account_name}.blob.core.windows.net\", credential=account_key)\n",
        "container_client = blob_service_client.get_container_client(container_name)\n",
        "blob_client = container_client.get_blob_client(blob_name)\n",
        "\n",
        "try:\n",
        "    blob_client.get_blob_properties()\n",
        "    print(\"Blob exists!\")\n",
        "except Exception as e:\n",
        "    print(f\"Blob not found: {e}\")"
      ],
      "outputs": [
        {
          "output_type": "stream",
          "name": "stdout",
          "text": "account name is: productpredict6186226399\ncontainer name is: azureml-blobstore-988bc6ed-626e-41f2-8020-27b01da8ac63\nblob name: amazon.csv\nBlob exists!\n"
        }
      ],
      "execution_count": 4,
      "metadata": {
        "gather": {
          "logged": 1728055034378
        },
        "jupyter": {
          "outputs_hidden": false,
          "source_hidden": false
        },
        "nteract": {
          "transient": {
            "deleting": false
          }
        }
      }
    },
    {
      "cell_type": "code",
      "source": [
        "download_stream = blob_client.download_blob()\n",
        "df = pd.read_csv(io.StringIO(download_stream.content_as_text()))\n",
        "\n",
        "print(df.head())"
      ],
      "outputs": [
        {
          "output_type": "stream",
          "name": "stdout",
          "text": "   product_id                                       product_name  \\\n0  B07JW9H4J1  Wayona Nylon Braided USB to Lightning Fast Cha...   \n1  B098NS6PVG  Ambrane Unbreakable 60W / 3A Fast Charging 1.5...   \n2  B096MSW6CT  Sounce Fast Phone Charging Cable & Data Sync U...   \n3  B08HDJ86NZ  boAt Deuce USB 300 2 in 1 Type-C & Micro USB S...   \n4  B08CF3B7N1  Portronics Konnect L 1.2M Fast Charging 3A 8 P...   \n\n                                            category discounted_price  \\\n0  Computers&Accessories|Accessories&Peripherals|...             ₹399   \n1  Computers&Accessories|Accessories&Peripherals|...             ₹199   \n2  Computers&Accessories|Accessories&Peripherals|...             ₹199   \n3  Computers&Accessories|Accessories&Peripherals|...             ₹329   \n4  Computers&Accessories|Accessories&Peripherals|...             ₹154   \n\n  actual_price discount_percentage rating rating_count  \\\n0       ₹1,099                 64%    4.2       24,269   \n1         ₹349                 43%    4.0       43,994   \n2       ₹1,899                 90%    3.9        7,928   \n3         ₹699                 53%    4.2       94,363   \n4         ₹399                 61%    4.2       16,905   \n\n                                       about_product  \\\n0  High Compatibility : Compatible With iPhone 12...   \n1  Compatible with all Type C enabled devices, be...   \n2  【 Fast Charger& Data Sync】-With built-in safet...   \n3  The boAt Deuce USB 300 2 in 1 cable is compati...   \n4  [CHARGE & SYNC FUNCTION]- This cable comes wit...   \n\n                                             user_id  \\\n0  AG3D6O4STAQKAY2UVGEUV46KN35Q,AHMY5CWJMMK5BJRBB...   \n1  AECPFYFQVRUWC3KGNLJIOREFP5LQ,AGYYVPDD7YG7FYNBX...   \n2  AGU3BBQ2V2DDAMOAKGFAWDDQ6QHA,AESFLDV2PT363T2AQ...   \n3  AEWAZDZZJLQUYVOVGBEUKSLXHQ5A,AG5HTSFRRE6NL3M5S...   \n4  AE3Q6KSUK5P75D5HFYHCRAOLODSA,AFUGIFH5ZAFXRDSZH...   \n\n                                           user_name  \\\n0  Manav,Adarsh gupta,Sundeep,S.Sayeed Ahmed,jasp...   \n1  ArdKn,Nirbhay kumar,Sagar Viswanathan,Asp,Plac...   \n2  Kunal,Himanshu,viswanath,sai niharka,saqib mal...   \n3  Omkar dhale,JD,HEMALATHA,Ajwadh a.,amar singh ...   \n4  rahuls6099,Swasat Borah,Ajay Wadke,Pranali,RVK...   \n\n                                           review_id  \\\n0  R3HXWT0LRP0NMF,R2AJM3LFTLZHFO,R6AQJGUP6P86,R1K...   \n1  RGIQEG07R9HS2,R1SMWZQ86XIN8U,R2J3Y1WL29GWDE,RY...   \n2  R3J3EQQ9TZI5ZJ,R3E7WBGK7ID0KV,RWU79XKQ6I1QF,R2...   \n3  R3EEUZKKK9J36I,R3HJVYCLYOY554,REDECAZ7AMPQC,R1...   \n4  R1BP4L2HH9TFUP,R16PVJEXKV6QZS,R2UPDB81N66T4P,R...   \n\n                                        review_title  \\\n0  Satisfied,Charging is really fast,Value for mo...   \n1  A Good Braided Cable for Your Type C Device,Go...   \n2  Good speed for earlier versions,Good Product,W...   \n3  Good product,Good one,Nice,Really nice product...   \n4  As good as original,Decent,Good one for second...   \n\n                                      review_content  \\\n0  Looks durable Charging is fine tooNo complains...   \n1  I ordered this cable to connect my phone to An...   \n2  Not quite durable and sturdy,https://m.media-a...   \n3  Good product,long wire,Charges good,Nice,I bou...   \n4  Bought this instead of original apple, does th...   \n\n                                            img_link  \\\n0  https://m.media-amazon.com/images/W/WEBP_40237...   \n1  https://m.media-amazon.com/images/W/WEBP_40237...   \n2  https://m.media-amazon.com/images/W/WEBP_40237...   \n3  https://m.media-amazon.com/images/I/41V5FtEWPk...   \n4  https://m.media-amazon.com/images/W/WEBP_40237...   \n\n                                        product_link  \n0  https://www.amazon.in/Wayona-Braided-WN3LG1-Sy...  \n1  https://www.amazon.in/Ambrane-Unbreakable-Char...  \n2  https://www.amazon.in/Sounce-iPhone-Charging-C...  \n3  https://www.amazon.in/Deuce-300-Resistant-Tang...  \n4  https://www.amazon.in/Portronics-Konnect-POR-1...  \n"
        }
      ],
      "execution_count": 5,
      "metadata": {
        "gather": {
          "logged": 1728055034761
        },
        "jupyter": {
          "outputs_hidden": false,
          "source_hidden": false
        },
        "nteract": {
          "transient": {
            "deleting": false
          }
        }
      }
    },
    {
      "cell_type": "markdown",
      "source": [
        "# **Explanatory Data analysis: we will explore data and see what can be used what features can engineered.**"
      ],
      "metadata": {
        "nteract": {
          "transient": {
            "deleting": false
          }
        }
      }
    },
    {
      "cell_type": "code",
      "source": [
        "print(df.info())"
      ],
      "outputs": [
        {
          "output_type": "stream",
          "name": "stdout",
          "text": "<class 'pandas.core.frame.DataFrame'>\nRangeIndex: 1465 entries, 0 to 1464\nData columns (total 16 columns):\n #   Column               Non-Null Count  Dtype \n---  ------               --------------  ----- \n 0   product_id           1465 non-null   object\n 1   product_name         1465 non-null   object\n 2   category             1465 non-null   object\n 3   discounted_price     1465 non-null   object\n 4   actual_price         1465 non-null   object\n 5   discount_percentage  1465 non-null   object\n 6   rating               1465 non-null   object\n 7   rating_count         1463 non-null   object\n 8   about_product        1465 non-null   object\n 9   user_id              1465 non-null   object\n 10  user_name            1465 non-null   object\n 11  review_id            1465 non-null   object\n 12  review_title         1465 non-null   object\n 13  review_content       1465 non-null   object\n 14  img_link             1465 non-null   object\n 15  product_link         1465 non-null   object\ndtypes: object(16)\nmemory usage: 183.2+ KB\nNone\n"
        }
      ],
      "execution_count": 6,
      "metadata": {
        "gather": {
          "logged": 1728055035088
        },
        "jupyter": {
          "outputs_hidden": false,
          "source_hidden": false
        },
        "nteract": {
          "transient": {
            "deleting": false
          }
        }
      }
    },
    {
      "cell_type": "markdown",
      "source": [
        "### Since data do not contain null values we do not need to handle null values."
      ],
      "metadata": {
        "nteract": {
          "transient": {
            "deleting": false
          }
        }
      }
    },
    {
      "cell_type": "code",
      "source": [
        "print(df['product_id'].head())\n",
        "print(df['product_name'].head())\n",
        "print(df['category'].head())\n",
        "print(df['discounted_price'].head())\n",
        "print(df['actual_price'].head())\n",
        "print(df['discount_percentage'].head())\n",
        "print(df['rating'].head())\n",
        "print(df['rating_count'].head())\n",
        "print(df['about_product'].head())\n",
        "print(df['user_id'].head())\n",
        "print(df['user_name'].head())\n",
        "print(df['review_id'].head())\n",
        "print(df['review_title'].head())\n",
        "print(df['review_content'].head())\n",
        "print(df['img_link'].head())\n",
        "print(df['product_link'].head())"
      ],
      "outputs": [
        {
          "output_type": "stream",
          "name": "stdout",
          "text": "0    B07JW9H4J1\n1    B098NS6PVG\n2    B096MSW6CT\n3    B08HDJ86NZ\n4    B08CF3B7N1\nName: product_id, dtype: object\n0    Wayona Nylon Braided USB to Lightning Fast Cha...\n1    Ambrane Unbreakable 60W / 3A Fast Charging 1.5...\n2    Sounce Fast Phone Charging Cable & Data Sync U...\n3    boAt Deuce USB 300 2 in 1 Type-C & Micro USB S...\n4    Portronics Konnect L 1.2M Fast Charging 3A 8 P...\nName: product_name, dtype: object\n0    Computers&Accessories|Accessories&Peripherals|...\n1    Computers&Accessories|Accessories&Peripherals|...\n2    Computers&Accessories|Accessories&Peripherals|...\n3    Computers&Accessories|Accessories&Peripherals|...\n4    Computers&Accessories|Accessories&Peripherals|...\nName: category, dtype: object\n0    ₹399\n1    ₹199\n2    ₹199\n3    ₹329\n4    ₹154\nName: discounted_price, dtype: object\n0    ₹1,099\n1      ₹349\n2    ₹1,899\n3      ₹699\n4      ₹399\nName: actual_price, dtype: object\n0    64%\n1    43%\n2    90%\n3    53%\n4    61%\nName: discount_percentage, dtype: object\n0    4.2\n1    4.0\n2    3.9\n3    4.2\n4    4.2\nName: rating, dtype: object\n0    24,269\n1    43,994\n2     7,928\n3    94,363\n4    16,905\nName: rating_count, dtype: object\n0    High Compatibility : Compatible With iPhone 12...\n1    Compatible with all Type C enabled devices, be...\n2    【 Fast Charger& Data Sync】-With built-in safet...\n3    The boAt Deuce USB 300 2 in 1 cable is compati...\n4    [CHARGE & SYNC FUNCTION]- This cable comes wit...\nName: about_product, dtype: object\n0    AG3D6O4STAQKAY2UVGEUV46KN35Q,AHMY5CWJMMK5BJRBB...\n1    AECPFYFQVRUWC3KGNLJIOREFP5LQ,AGYYVPDD7YG7FYNBX...\n2    AGU3BBQ2V2DDAMOAKGFAWDDQ6QHA,AESFLDV2PT363T2AQ...\n3    AEWAZDZZJLQUYVOVGBEUKSLXHQ5A,AG5HTSFRRE6NL3M5S...\n4    AE3Q6KSUK5P75D5HFYHCRAOLODSA,AFUGIFH5ZAFXRDSZH...\nName: user_id, dtype: object\n0    Manav,Adarsh gupta,Sundeep,S.Sayeed Ahmed,jasp...\n1    ArdKn,Nirbhay kumar,Sagar Viswanathan,Asp,Plac...\n2    Kunal,Himanshu,viswanath,sai niharka,saqib mal...\n3    Omkar dhale,JD,HEMALATHA,Ajwadh a.,amar singh ...\n4    rahuls6099,Swasat Borah,Ajay Wadke,Pranali,RVK...\nName: user_name, dtype: object\n0    R3HXWT0LRP0NMF,R2AJM3LFTLZHFO,R6AQJGUP6P86,R1K...\n1    RGIQEG07R9HS2,R1SMWZQ86XIN8U,R2J3Y1WL29GWDE,RY...\n2    R3J3EQQ9TZI5ZJ,R3E7WBGK7ID0KV,RWU79XKQ6I1QF,R2...\n3    R3EEUZKKK9J36I,R3HJVYCLYOY554,REDECAZ7AMPQC,R1...\n4    R1BP4L2HH9TFUP,R16PVJEXKV6QZS,R2UPDB81N66T4P,R...\nName: review_id, dtype: object\n0    Satisfied,Charging is really fast,Value for mo...\n1    A Good Braided Cable for Your Type C Device,Go...\n2    Good speed for earlier versions,Good Product,W...\n3    Good product,Good one,Nice,Really nice product...\n4    As good as original,Decent,Good one for second...\nName: review_title, dtype: object\n0    Looks durable Charging is fine tooNo complains...\n1    I ordered this cable to connect my phone to An...\n2    Not quite durable and sturdy,https://m.media-a...\n3    Good product,long wire,Charges good,Nice,I bou...\n4    Bought this instead of original apple, does th...\nName: review_content, dtype: object\n0    https://m.media-amazon.com/images/W/WEBP_40237...\n1    https://m.media-amazon.com/images/W/WEBP_40237...\n2    https://m.media-amazon.com/images/W/WEBP_40237...\n3    https://m.media-amazon.com/images/I/41V5FtEWPk...\n4    https://m.media-amazon.com/images/W/WEBP_40237...\nName: img_link, dtype: object\n0    https://www.amazon.in/Wayona-Braided-WN3LG1-Sy...\n1    https://www.amazon.in/Ambrane-Unbreakable-Char...\n2    https://www.amazon.in/Sounce-iPhone-Charging-C...\n3    https://www.amazon.in/Deuce-300-Resistant-Tang...\n4    https://www.amazon.in/Portronics-Konnect-POR-1...\nName: product_link, dtype: object\n"
        }
      ],
      "execution_count": 7,
      "metadata": {
        "gather": {
          "logged": 1728055035367
        },
        "jupyter": {
          "outputs_hidden": false,
          "source_hidden": false
        },
        "nteract": {
          "transient": {
            "deleting": false
          }
        }
      }
    },
    {
      "cell_type": "markdown",
      "source": [
        "### It seems like we need to drop lots of columns but before procceeding\n",
        "we need to do some analysis\n",
        "\n",
        "    1. lets find how they correlate to each other \n",
        "    2. to check how they can be useful\n",
        "    3. it seems like customer related fields, review related and, links are unnecesary in my project so I will drop them "
      ],
      "metadata": {
        "nteract": {
          "transient": {
            "deleting": false
          }
        }
      }
    },
    {
      "cell_type": "code",
      "source": [
        "df = df.drop(['about_product', 'user_id', 'user_name', 'review_id', 'review_title', 'review_content', 'img_link', 'product_link'], axis=1)"
      ],
      "outputs": [],
      "execution_count": 8,
      "metadata": {
        "jupyter": {
          "source_hidden": false,
          "outputs_hidden": false
        },
        "nteract": {
          "transient": {
            "deleting": false
          }
        },
        "gather": {
          "logged": 1728055035662
        }
      }
    },
    {
      "cell_type": "code",
      "source": [
        "print(df['category'].unique())"
      ],
      "outputs": [
        {
          "output_type": "stream",
          "name": "stdout",
          "text": "['Computers&Accessories|Accessories&Peripherals|Cables&Accessories|Cables|USBCables'\n 'Computers&Accessories|NetworkingDevices|NetworkAdapters|WirelessUSBAdapters'\n 'Electronics|HomeTheater,TV&Video|Accessories|Cables|HDMICables'\n 'Electronics|HomeTheater,TV&Video|Televisions|SmartTelevisions'\n 'Electronics|HomeTheater,TV&Video|Accessories|RemoteControls'\n 'Electronics|HomeTheater,TV&Video|Televisions|StandardTelevisions'\n 'Electronics|HomeTheater,TV&Video|Accessories|TVMounts,Stands&Turntables|TVWall&CeilingMounts'\n 'Electronics|HomeTheater,TV&Video|Accessories|Cables|RCACables'\n 'Electronics|HomeAudio|Accessories|SpeakerAccessories|Mounts'\n 'Electronics|HomeTheater,TV&Video|Accessories|Cables|OpticalCables'\n 'Electronics|HomeTheater,TV&Video|Projectors'\n 'Electronics|HomeAudio|Accessories|Adapters'\n 'Electronics|HomeTheater,TV&Video|SatelliteEquipment|SatelliteReceivers'\n 'Computers&Accessories|Accessories&Peripherals|Cables&Accessories|Cables|DVICables'\n 'Electronics|HomeTheater,TV&Video|Accessories|Cables|SpeakerCables'\n 'Electronics|HomeAudio|MediaStreamingDevices|StreamingClients'\n 'Electronics|HomeTheater,TV&Video|AVReceivers&Amplifiers'\n 'Electronics|HomeAudio|Speakers|TowerSpeakers'\n 'Electronics|HomeTheater,TV&Video|Accessories|3DGlasses'\n 'Electronics|WearableTechnology|SmartWatches'\n 'Electronics|Mobiles&Accessories|MobileAccessories|Chargers|PowerBanks'\n 'Electronics|Mobiles&Accessories|Smartphones&BasicMobiles|Smartphones'\n 'Electronics|Accessories|MemoryCards|MicroSD'\n 'Electronics|Mobiles&Accessories|Smartphones&BasicMobiles|BasicMobiles'\n 'Electronics|Headphones,Earbuds&Accessories|Headphones|In-Ear'\n 'Electronics|Mobiles&Accessories|MobileAccessories|Chargers|AutomobileChargers'\n 'Electronics|Mobiles&Accessories|MobileAccessories|AutomobileAccessories|Cradles'\n 'Electronics|Mobiles&Accessories|MobileAccessories|Chargers|WallChargers'\n 'Electronics|Mobiles&Accessories|MobileAccessories|Cables&Adapters|OTGAdapters'\n 'Electronics|Mobiles&Accessories|MobileAccessories|Photo&VideoAccessories|Tripods'\n 'Electronics|Mobiles&Accessories|MobileAccessories|Photo&VideoAccessories|SelfieSticks'\n 'Electronics|Mobiles&Accessories|MobileAccessories|Stands'\n 'Computers&Accessories|Accessories&Peripherals|Cables&Accessories|CableConnectionProtectors'\n 'Electronics|Mobiles&Accessories|MobileAccessories|Décor'\n 'Electronics|Mobiles&Accessories|MobileAccessories|Maintenance,Upkeep&Repairs|ScreenProtectors'\n 'Electronics|Mobiles&Accessories|MobileAccessories|StylusPens'\n 'Electronics|Mobiles&Accessories|MobileAccessories|Mounts|Bedstand&DeskMounts'\n 'Electronics|Mobiles&Accessories|MobileAccessories|Cases&Covers|BasicCases'\n 'Electronics|Mobiles&Accessories|MobileAccessories|Mounts|HandlebarMounts'\n 'Electronics|Headphones,Earbuds&Accessories|Headphones|On-Ear'\n 'Computers&Accessories|Accessories&Peripherals|LaptopAccessories|CameraPrivacyCovers'\n 'Electronics|Headphones,Earbuds&Accessories|Adapters'\n 'Electronics|Mobiles&Accessories|MobileAccessories|Décor|PhoneCharms'\n 'Electronics|Mobiles&Accessories|MobileAccessories|Mounts|Shower&WallMounts'\n 'Computers&Accessories|ExternalDevices&DataStorage|PenDrives'\n 'Computers&Accessories|Accessories&Peripherals|Keyboards,Mice&InputDevices|Mice'\n 'Computers&Accessories|Accessories&Peripherals|Keyboards,Mice&InputDevices|GraphicTablets'\n 'Computers&Accessories|Accessories&Peripherals|LaptopAccessories|Lapdesks'\n 'Computers&Accessories|Accessories&Peripherals|LaptopAccessories|NotebookComputerStands'\n 'Computers&Accessories|Accessories&Peripherals|Keyboards,Mice&InputDevices|Keyboards'\n 'MusicalInstruments|Microphones|Condenser'\n 'Electronics|GeneralPurposeBatteries&BatteryChargers|DisposableBatteries'\n 'OfficeProducts|OfficePaperProducts|Paper|Stationery|Pens,Pencils&WritingSupplies|Pens&Refills|GelInkRollerballPens'\n 'Home&Kitchen|CraftMaterials|Scrapbooking|Tape'\n 'Computers&Accessories|Accessories&Peripherals|Keyboards,Mice&InputDevices|Keyboard&MouseSets'\n 'Computers&Accessories|ExternalDevices&DataStorage|ExternalHardDisks'\n 'Electronics|Cameras&Photography|VideoCameras'\n 'Electronics|Cameras&Photography|Accessories|Tripods&Monopods|Tabletop&TravelTripods'\n 'OfficeProducts|OfficeElectronics|Calculators|Scientific'\n 'Computers&Accessories|NetworkingDevices|Repeaters&Extenders'\n 'Electronics|Cameras&Photography|Accessories|Tripods&Monopods|TripodLegs'\n 'Computers&Accessories|Printers,Inks&Accessories|Inks,Toners&Cartridges|InkjetInkCartridges'\n 'Computers&Accessories|Accessories&Peripherals|Keyboards,Mice&InputDevices|Keyboard&MiceAccessories|DustCovers'\n 'Computers&Accessories|Accessories&Peripherals|PCGamingPeripherals|GamingMice'\n 'Home&Kitchen|CraftMaterials|PaintingMaterials|Paints'\n 'Computers&Accessories|Accessories&Peripherals|Keyboards,Mice&InputDevices|Keyboard&MiceAccessories|MousePads'\n 'Computers&Accessories|Accessories&Peripherals|HardDiskBags'\n 'Electronics|Cameras&Photography|Flashes|Macro&RinglightFlashes'\n 'Computers&Accessories|NetworkingDevices'\n 'Computers&Accessories|NetworkingDevices|Routers'\n 'Electronics|Headphones,Earbuds&Accessories|Headphones|Over-Ear'\n 'Electronics|HomeAudio|Speakers|BluetoothSpeakers'\n 'Electronics|GeneralPurposeBatteries&BatteryChargers'\n 'OfficeProducts|OfficePaperProducts|Paper|Stationery|Notebooks,WritingPads&Diaries|WireboundNotebooks'\n 'Electronics|GeneralPurposeBatteries&BatteryChargers|RechargeableBatteries'\n 'Computers&Accessories|NetworkingDevices|NetworkAdapters|BluetoothAdapters'\n 'Computers&Accessories|Accessories&Peripherals|Adapters|USBtoUSBAdapters'\n 'Electronics|Cameras&Photography|Accessories|Tripods&Monopods|CompleteTripodUnits'\n 'OfficeProducts|OfficePaperProducts|Paper|Stationery|Notebooks,WritingPads&Diaries|Notepads&MemoBooks'\n 'Electronics|Cameras&Photography|Accessories|Film'\n 'Computers&Accessories|Monitors'\n 'Computers&Accessories|Accessories&Peripherals|USBGadgets|Lamps'\n 'Electronics|Cameras&Photography|Accessories|Cleaners|CleaningKits'\n 'Electronics|Cameras&Photography|SecurityCameras|DomeCameras'\n 'Computers&Accessories|Accessories&Peripherals|TabletAccessories|ScreenProtectors'\n 'Computers&Accessories|Accessories&Peripherals|PCGamingPeripherals|Gamepads'\n 'OfficeProducts|OfficeElectronics|Calculators|Basic'\n 'Computers&Accessories|Accessories&Peripherals|USBHubs'\n 'Computers&Accessories|Accessories&Peripherals|Audio&VideoAccessories|PCMicrophones'\n 'Electronics|HomeAudio|Speakers|OutdoorSpeakers'\n 'Computers&Accessories|Accessories&Peripherals|LaptopAccessories|Bags&Sleeves|LaptopSleeves&Slipcases'\n 'Computers&Accessories|ExternalDevices&DataStorage|ExternalMemoryCardReaders'\n 'OfficeProducts|OfficePaperProducts|Paper|Stationery|Pens,Pencils&WritingSupplies|Pens&Refills|BottledInk'\n 'OfficeProducts|OfficePaperProducts|Paper|Stationery|Notebooks,WritingPads&Diaries|CompositionNotebooks'\n 'OfficeProducts|OfficePaperProducts|Paper|Stationery|Pens,Pencils&WritingSupplies|Pens&Refills|RetractableBallpointPens'\n 'Computers&Accessories|Accessories&Peripherals|Cables&Accessories|Cables|EthernetCables'\n 'Computers&Accessories|Components|Memory'\n 'Computers&Accessories|Accessories&Peripherals|UninterruptedPowerSupplies'\n 'Electronics|Headphones,Earbuds&Accessories|Cases'\n 'Electronics|Accessories|MemoryCards|SecureDigitalCards'\n 'Electronics|Mobiles&Accessories|MobileAccessories|Photo&VideoAccessories|Flashes&SelfieLights|SelfieLights'\n 'Computers&Accessories|Accessories&Peripherals|Audio&VideoAccessories|Webcams&VoIPEquipment|Webcams'\n 'Computers&Accessories|Accessories&Peripherals|LaptopAccessories|CoolingPads'\n 'Computers&Accessories|Accessories&Peripherals|LaptopAccessories'\n 'Computers&Accessories|Accessories&Peripherals|TabletAccessories|Stands'\n 'HomeImprovement|Electrical|Adapters&Multi-Outlets'\n 'OfficeProducts|OfficePaperProducts|Paper|Copy&PrintingPaper|ColouredPaper'\n 'Computers&Accessories|Components|InternalSolidStateDrives'\n 'Electronics|HomeAudio|Speakers|MultimediaSpeakerSystems'\n 'Computers&Accessories|NetworkingDevices|DataCards&Dongles'\n 'Computers&Accessories|Accessories&Peripherals|LaptopAccessories|LaptopChargers&PowerSupplies'\n 'Computers&Accessories|Accessories&Peripherals|Audio&VideoAccessories|PCSpeakers'\n 'Electronics|Cameras&Photography|Accessories|Batteries&Chargers|BatteryChargers'\n 'Computers&Accessories|Accessories&Peripherals|TabletAccessories|Bags,Cases&Sleeves|Cases'\n 'OfficeProducts|OfficePaperProducts|Paper|Stationery|Pens,Pencils&WritingSupplies|Pens&Refills|StickBallpointPens'\n 'Home&Kitchen|CraftMaterials|DrawingMaterials|DrawingMedia|Pencils|WoodenPencils'\n 'Computers&Accessories|Components|InternalHardDrives'\n 'Computers&Accessories|Printers,Inks&Accessories|Printers'\n 'Home&Kitchen|CraftMaterials|DrawingMaterials|DrawingMedia|Pens'\n 'Computers&Accessories|Accessories&Peripherals|Cables&Accessories|Cables|SATACables'\n 'Computers&Accessories|Accessories&Peripherals|Audio&VideoAccessories|PCHeadsets'\n 'Computers&Accessories|Accessories&Peripherals|PCGamingPeripherals|GamingKeyboards'\n 'Electronics|HomeAudio|Speakers|SoundbarSpeakers'\n 'Electronics|Headphones,Earbuds&Accessories|Earpads'\n 'Computers&Accessories|Printers,Inks&Accessories|Printers|InkjetPrinters'\n 'Toys&Games|Arts&Crafts|Drawing&PaintingSupplies|ColouringPens&Markers'\n 'Computers&Accessories|Accessories&Peripherals|PCGamingPeripherals|Headsets'\n 'Computers&Accessories|ExternalDevices&DataStorage|ExternalSolidStateDrives'\n 'Computers&Accessories|NetworkingDevices|NetworkAdapters|PowerLANAdapters'\n 'Computers&Accessories|Printers,Inks&Accessories|Inks,Toners&Cartridges|InkjetInkRefills&Kits'\n 'OfficeProducts|OfficePaperProducts|Paper|Stationery|Notebooks,WritingPads&Diaries'\n 'Electronics|Cameras&Photography|Accessories|PhotoStudio&Lighting|PhotoBackgroundAccessories|BackgroundSupports'\n 'OfficeProducts|OfficeElectronics|Calculators|Financial&Business'\n 'Electronics|PowerAccessories|SurgeProtectors'\n 'Computers&Accessories|Tablets'\n 'HomeImprovement|Electrical|CordManagement'\n 'Home&Kitchen|CraftMaterials|PaintingMaterials'\n 'Computers&Accessories|Printers,Inks&Accessories|Inks,Toners&Cartridges|TonerCartridges'\n 'OfficeProducts|OfficePaperProducts|Paper|Stationery|Pens,Pencils&WritingSupplies|Pens&Refills|LiquidInkRollerballPens'\n 'OfficeProducts|OfficePaperProducts|Paper|Stationery|Pens,Pencils&WritingSupplies|Pens&Refills|FountainPens'\n 'Computers&Accessories|Accessories&Peripherals|HardDriveAccessories|Caddies'\n 'Computers&Accessories|Laptops|TraditionalLaptops'\n 'Home&Kitchen|Kitchen&HomeAppliances|SmallKitchenAppliances|Kettles&HotWaterDispensers|ElectricKettles'\n 'Home&Kitchen|Heating,Cooling&AirQuality|RoomHeaters|ElectricHeaters'\n 'Home&Kitchen|Heating,Cooling&AirQuality|RoomHeaters|FanHeaters'\n 'Home&Kitchen|Kitchen&HomeAppliances|Vacuum,Cleaning&Ironing|Irons,Steamers&Accessories|LintShavers'\n 'Home&Kitchen|Kitchen&HomeAppliances|SmallKitchenAppliances|DigitalKitchenScales'\n 'Home&Kitchen|Kitchen&Dining|KitchenTools|ManualChoppers&Chippers|Choppers'\n 'Home&Kitchen|Kitchen&HomeAppliances|SmallKitchenAppliances|InductionCooktop'\n 'Home&Kitchen|Kitchen&HomeAppliances|SmallKitchenAppliances|HandBlenders'\n 'Home&Kitchen|Kitchen&HomeAppliances|Vacuum,Cleaning&Ironing|Irons,Steamers&Accessories|Irons|DryIrons'\n 'Home&Kitchen|Kitchen&HomeAppliances|SmallKitchenAppliances|MixerGrinders'\n 'Home&Kitchen|Heating,Cooling&AirQuality|WaterHeaters&Geysers|InstantWaterHeaters'\n 'Home&Kitchen|Heating,Cooling&AirQuality|RoomHeaters'\n 'Home&Kitchen|Kitchen&HomeAppliances|SmallKitchenAppliances|Kettles&HotWaterDispensers|Kettle&ToasterSets'\n 'Home&Kitchen|Heating,Cooling&AirQuality|WaterHeaters&Geysers|StorageWaterHeaters'\n 'Home&Kitchen|Heating,Cooling&AirQuality|WaterHeaters&Geysers|ImmersionRods'\n 'Home&Kitchen|Kitchen&HomeAppliances|SmallKitchenAppliances|DeepFatFryers|AirFryers'\n 'Home&Kitchen|HomeStorage&Organization|LaundryOrganization|LaundryBaskets'\n 'Home&Kitchen|Kitchen&HomeAppliances|Vacuum,Cleaning&Ironing|Irons,Steamers&Accessories|Irons|SteamIrons'\n 'Home&Kitchen|Kitchen&HomeAppliances|SmallKitchenAppliances|JuicerMixerGrinders'\n 'Home&Kitchen|Kitchen&HomeAppliances|Vacuum,Cleaning&Ironing|Vacuums&FloorCare|Vacuums|HandheldVacuums'\n 'Home&Kitchen|Kitchen&HomeAppliances|SmallKitchenAppliances|EggBoilers'\n 'Home&Kitchen|Kitchen&HomeAppliances|SmallKitchenAppliances|SandwichMakers'\n 'Home&Kitchen|Kitchen&HomeAppliances|SmallKitchenAppliances|MiniFoodProcessors&Choppers'\n 'Home&Kitchen|Kitchen&HomeAppliances|SmallKitchenAppliances|DigitalKitchenScales|DigitalScales'\n 'Home&Kitchen|Kitchen&HomeAppliances|SmallKitchenAppliances|VacuumSealers'\n 'Home&Kitchen|Heating,Cooling&AirQuality|Fans|CeilingFans'\n 'Home&Kitchen|Kitchen&HomeAppliances|Vacuum,Cleaning&Ironing|Vacuums&FloorCare|Vacuums|CanisterVacuums'\n 'Home&Kitchen|Kitchen&HomeAppliances|Vacuum,Cleaning&Ironing|PressureWashers,Steam&WindowCleaners'\n 'Home&Kitchen|Heating,Cooling&AirQuality|RoomHeaters|HalogenHeaters'\n 'Home&Kitchen|Kitchen&HomeAppliances|SmallKitchenAppliances|Pop-upToasters'\n 'Home&Kitchen|Heating,Cooling&AirQuality|RoomHeaters|HeatConvectors'\n 'Home&Kitchen|Kitchen&HomeAppliances|Coffee,Tea&Espresso|CoffeeGrinders|ElectricGrinders'\n 'Home&Kitchen|Heating,Cooling&AirQuality|Fans|ExhaustFans'\n 'Home&Kitchen|Kitchen&HomeAppliances|Coffee,Tea&Espresso|DripCoffeeMachines'\n 'Home&Kitchen|Kitchen&HomeAppliances|WaterPurifiers&Accessories|WaterPurifierAccessories'\n 'Home&Kitchen|Kitchen&HomeAppliances|WaterPurifiers&Accessories|WaterCartridges'\n 'Home&Kitchen|Kitchen&HomeAppliances|SmallKitchenAppliances|Rice&PastaCookers'\n 'Car&Motorbike|CarAccessories|InteriorAccessories|AirPurifiers&Ionizers'\n 'Home&Kitchen|Kitchen&HomeAppliances|Vacuum,Cleaning&Ironing|Vacuums&FloorCare|Vacuums|Wet-DryVacuums'\n 'Home&Kitchen|Heating,Cooling&AirQuality|AirPurifiers|HEPAAirPurifiers'\n 'Home&Kitchen|Kitchen&HomeAppliances|WaterPurifiers&Accessories|WaterFilters&Purifiers'\n 'Home&Kitchen|HomeStorage&Organization|LaundryOrganization|LaundryBags'\n 'Home&Kitchen|Kitchen&HomeAppliances|SewingMachines&Accessories|Sewing&EmbroideryMachines'\n 'Home&Kitchen|HomeStorage&Organization|LaundryOrganization|IroningAccessories|SprayBottles'\n 'Home&Kitchen|Kitchen&HomeAppliances|SmallKitchenAppliances|HandMixers'\n 'Home&Kitchen|Kitchen&HomeAppliances|SmallKitchenAppliances|Mills&Grinders|WetGrinders'\n 'Home&Kitchen|Kitchen&HomeAppliances|SmallKitchenAppliances|OvenToasterGrills'\n 'Home&Kitchen|Kitchen&HomeAppliances|SmallKitchenAppliances|Juicers'\n 'Home&Kitchen|Kitchen&HomeAppliances|SmallKitchenAppliances'\n 'Health&PersonalCare|HomeMedicalSupplies&Equipment|HealthMonitors|WeighingScales|DigitalBathroomScales'\n 'Home&Kitchen|Kitchen&HomeAppliances|Coffee,Tea&Espresso|EspressoMachines'\n 'Home&Kitchen|Heating,Cooling&AirQuality|Fans|TableFans'\n 'Home&Kitchen|Kitchen&HomeAppliances|Coffee,Tea&Espresso|MilkFrothers'\n 'Home&Kitchen|Heating,Cooling&AirQuality|Humidifiers'\n 'Home&Kitchen|Kitchen&HomeAppliances|SmallKitchenAppliances|SmallApplianceParts&Accessories|StandMixerAccessories'\n 'Home&Kitchen|Kitchen&HomeAppliances|Vacuum,Cleaning&Ironing|Vacuums&FloorCare|Vacuums|RoboticVacuums'\n 'Home&Kitchen|Kitchen&HomeAppliances|SmallKitchenAppliances|YogurtMakers'\n 'Home&Kitchen|Kitchen&HomeAppliances|SmallKitchenAppliances|Juicers|ColdPressJuicers'\n 'Home&Kitchen|Heating,Cooling&AirQuality|AirConditioners|Split-SystemAirConditioners'\n 'Home&Kitchen|Kitchen&HomeAppliances|SmallKitchenAppliances|SmallApplianceParts&Accessories'\n 'Home&Kitchen|Kitchen&HomeAppliances|SmallKitchenAppliances|WaffleMakers&Irons'\n 'Home&Kitchen|Kitchen&HomeAppliances|Coffee,Tea&Espresso|StovetopEspressoPots'\n 'Home&Kitchen|Kitchen&HomeAppliances|Coffee,Tea&Espresso|CoffeeMakerAccessories|MeasuringSpoons'\n 'Home&Kitchen|Kitchen&HomeAppliances|Coffee,Tea&Espresso|CoffeePresses'\n 'Home&Kitchen|Kitchen&HomeAppliances|SmallKitchenAppliances|RotiMakers'\n 'Home&Kitchen|Heating,Cooling&AirQuality|Parts&Accessories|FanParts&Accessories'\n 'Home&Kitchen|Kitchen&HomeAppliances|SmallKitchenAppliances|StandMixers'\n 'Home&Kitchen|Heating,Cooling&AirQuality|Fans|PedestalFans'\n 'Home&Kitchen|Kitchen&HomeAppliances|Vacuum,Cleaning&Ironing|Vacuums&FloorCare|VacuumAccessories|VacuumBags|HandheldBags']\n"
        }
      ],
      "execution_count": 9,
      "metadata": {
        "jupyter": {
          "source_hidden": false,
          "outputs_hidden": false
        },
        "nteract": {
          "transient": {
            "deleting": false
          }
        },
        "gather": {
          "logged": 1728055035986
        }
      }
    },
    {
      "cell_type": "code",
      "source": [
        "print(df['product_name'].value_counts())"
      ],
      "outputs": [
        {
          "output_type": "stream",
          "name": "stdout",
          "text": "Fire-Boltt Ninja Call Pro Plus 1.83\" Smart Watch with Bluetooth Calling, AI Voice Assistance, 100 Sports Modes IP67 Rating, 240*280 Pixel High Resolution                           5\nFire-Boltt Phoenix Smart Watch with Bluetooth Calling 1.3\",120+ Sports Modes, 240*240 PX High Res with SpO2, Heart Rate Monitoring & IP67 Rating                                    4\nWayona Nylon Braided USB to Lightning Fast Charging and Data Sync Cable Compatible for iPhone 13, 12,11, X, 8, 7, 6, 5, iPad Air, Pro, Mini (3 FT Pack of 1, Grey)                  3\nMI Braided USB Type-C Cable for Charging Adapter (Red)                                                                                                                              3\nAmazonbasics Nylon Braided Usb-C To Lightning Cable, Fast Charging Mfi Certified Smartphone, Iphone Charger (6-Foot, Dark Grey)                                                     3\n                                                                                                                                                                                   ..\nSanDisk Ultra microSD UHS-I Card 64GB, 120MB/s R                                                                                                                                    1\nNoise ColorFit Ultra SE Smart Watch with 1.75\"(4.3cm) HD Display, Aluminium Alloy Body, 60 Sports Modes, Spo2, Lightweight, Stock Market Info, Calls & SMS Reply (Vintage Brown)    1\nNokia 150 (2020) (Cyan)                                                                                                                                                             1\nOnePlus 10T 5G (Moonstone Black, 8GB RAM, 128GB Storage)                                                                                                                            1\nBorosil Jumbo 1000-Watt Grill Sandwich Maker (Black)                                                                                                                                1\nName: product_name, Length: 1337, dtype: int64\n"
        }
      ],
      "execution_count": 10,
      "metadata": {
        "jupyter": {
          "source_hidden": false,
          "outputs_hidden": false
        },
        "nteract": {
          "transient": {
            "deleting": false
          }
        },
        "gather": {
          "logged": 1728055036266
        }
      }
    },
    {
      "cell_type": "markdown",
      "source": [
        "#### Lets convert the prices into numeric format and then convert prices to US Dollars."
      ],
      "metadata": {
        "nteract": {
          "transient": {
            "deleting": false
          }
        }
      }
    },
    {
      "cell_type": "code",
      "source": [
        "df['actual_price'] = df['actual_price'].str.replace(\",\",\"\")\n",
        "df['actual_price'] = df['actual_price'].str.replace(\"₹\",\"\").astype(float)\n",
        "print(df['actual_price'].head())"
      ],
      "outputs": [
        {
          "output_type": "stream",
          "name": "stdout",
          "text": "0    1099.0\n1     349.0\n2    1899.0\n3     699.0\n4     399.0\nName: actual_price, dtype: float64\n"
        }
      ],
      "execution_count": 11,
      "metadata": {
        "jupyter": {
          "source_hidden": false,
          "outputs_hidden": false
        },
        "nteract": {
          "transient": {
            "deleting": false
          }
        },
        "gather": {
          "logged": 1728055036544
        }
      }
    },
    {
      "cell_type": "code",
      "source": [
        "df['discounted_price'] = df['discounted_price'].str.replace(\",\",\"\")\n",
        "df['discounted_price'] = df['discounted_price'].str.replace(\"₹\",\"\").astype(float)\n",
        "print(df['discounted_price'].head())"
      ],
      "outputs": [
        {
          "output_type": "stream",
          "name": "stdout",
          "text": "0    399.0\n1    199.0\n2    199.0\n3    329.0\n4    154.0\nName: discounted_price, dtype: float64\n"
        }
      ],
      "execution_count": 12,
      "metadata": {
        "jupyter": {
          "source_hidden": false,
          "outputs_hidden": false
        },
        "nteract": {
          "transient": {
            "deleting": false
          }
        },
        "gather": {
          "logged": 1728055036832
        }
      }
    },
    {
      "cell_type": "markdown",
      "source": [
        "#### Once you made an operation data is changed and because of that when you run the cell again you get an error in this data preparation steps."
      ],
      "metadata": {
        "nteract": {
          "transient": {
            "deleting": false
          }
        }
      }
    },
    {
      "cell_type": "code",
      "source": [
        "print(df['actual_price'].head())\n",
        "print(df['discounted_price'].head())"
      ],
      "outputs": [
        {
          "output_type": "stream",
          "name": "stdout",
          "text": "0    1099.0\n1     349.0\n2    1899.0\n3     699.0\n4     399.0\nName: actual_price, dtype: float64\n0    399.0\n1    199.0\n2    199.0\n3    329.0\n4    154.0\nName: discounted_price, dtype: float64\n"
        }
      ],
      "execution_count": 13,
      "metadata": {
        "jupyter": {
          "source_hidden": false,
          "outputs_hidden": false
        },
        "nteract": {
          "transient": {
            "deleting": false
          }
        },
        "gather": {
          "logged": 1728055037115
        }
      }
    },
    {
      "cell_type": "markdown",
      "source": [
        "#### 1 US dollar is equivalent to 83.88 Indian rupees which I will take it as 84 to make it more computable"
      ],
      "metadata": {
        "nteract": {
          "transient": {
            "deleting": false
          }
        }
      }
    },
    {
      "cell_type": "code",
      "source": [
        "df['actual_price'] = df['actual_price'] / 84\n",
        "df['discounted_price'] = df['discounted_price'] / 84"
      ],
      "outputs": [],
      "execution_count": 14,
      "metadata": {
        "jupyter": {
          "source_hidden": false,
          "outputs_hidden": false
        },
        "nteract": {
          "transient": {
            "deleting": false
          }
        },
        "gather": {
          "logged": 1728055037399
        }
      }
    },
    {
      "cell_type": "code",
      "source": [
        "df['actual_price'] = (df['actual_price']).round(4)\n",
        "df['discounted_price'] = (df['discounted_price']).round(4)\n",
        "print(df['actual_price'].head())\n",
        "print(df['discounted_price'].head())"
      ],
      "outputs": [
        {
          "output_type": "stream",
          "name": "stdout",
          "text": "0    13.0833\n1     4.1548\n2    22.6071\n3     8.3214\n4     4.7500\nName: actual_price, dtype: float64\n0    4.7500\n1    2.3690\n2    2.3690\n3    3.9167\n4    1.8333\nName: discounted_price, dtype: float64\n"
        }
      ],
      "execution_count": 15,
      "metadata": {
        "jupyter": {
          "source_hidden": false,
          "outputs_hidden": false
        },
        "nteract": {
          "transient": {
            "deleting": false
          }
        },
        "gather": {
          "logged": 1728055037676
        }
      }
    },
    {
      "cell_type": "markdown",
      "source": [
        "### Now lets clean the product name part so that only brands are taken and other unnecessary writings are not taken"
      ],
      "metadata": {
        "nteract": {
          "transient": {
            "deleting": false
          }
        }
      }
    },
    {
      "cell_type": "code",
      "source": [
        "df['product_name'] = df[\"product_name\"].apply(lambda x: x.split(\" \")[0])\n",
        "print(df['product_name'].head())"
      ],
      "outputs": [
        {
          "output_type": "stream",
          "name": "stdout",
          "text": "0        Wayona\n1       Ambrane\n2        Sounce\n3          boAt\n4    Portronics\nName: product_name, dtype: object\n"
        }
      ],
      "execution_count": 16,
      "metadata": {
        "jupyter": {
          "source_hidden": false,
          "outputs_hidden": false
        },
        "nteract": {
          "transient": {
            "deleting": false
          }
        },
        "gather": {
          "logged": 1728055037952
        }
      }
    },
    {
      "cell_type": "markdown",
      "source": [
        "## It seems like taking first and last part of the category variable is sufficient"
      ],
      "metadata": {
        "nteract": {
          "transient": {
            "deleting": false
          }
        }
      }
    },
    {
      "cell_type": "code",
      "source": [
        "category_top = df['category'].apply(lambda x: x.split(\"|\")[0])\n",
        "category_bottom = df['category'].apply(lambda x: x.split(\"|\")[-1])\n",
        "df['category_general'] = category_top\n",
        "df['category_detailed'] = category_bottom\n",
        "print(df.head())"
      ],
      "outputs": [
        {
          "output_type": "stream",
          "name": "stdout",
          "text": "   product_id product_name                                           category  \\\n0  B07JW9H4J1       Wayona  Computers&Accessories|Accessories&Peripherals|...   \n1  B098NS6PVG      Ambrane  Computers&Accessories|Accessories&Peripherals|...   \n2  B096MSW6CT       Sounce  Computers&Accessories|Accessories&Peripherals|...   \n3  B08HDJ86NZ         boAt  Computers&Accessories|Accessories&Peripherals|...   \n4  B08CF3B7N1   Portronics  Computers&Accessories|Accessories&Peripherals|...   \n\n   discounted_price  actual_price discount_percentage rating rating_count  \\\n0            4.7500       13.0833                 64%    4.2       24,269   \n1            2.3690        4.1548                 43%    4.0       43,994   \n2            2.3690       22.6071                 90%    3.9        7,928   \n3            3.9167        8.3214                 53%    4.2       94,363   \n4            1.8333        4.7500                 61%    4.2       16,905   \n\n        category_general category_detailed  \n0  Computers&Accessories         USBCables  \n1  Computers&Accessories         USBCables  \n2  Computers&Accessories         USBCables  \n3  Computers&Accessories         USBCables  \n4  Computers&Accessories         USBCables  \n"
        }
      ],
      "execution_count": 17,
      "metadata": {
        "jupyter": {
          "source_hidden": false,
          "outputs_hidden": false
        },
        "nteract": {
          "transient": {
            "deleting": false
          }
        },
        "gather": {
          "logged": 1728055038228
        }
      }
    },
    {
      "cell_type": "markdown",
      "source": [
        "#### I think product Id and Category is not needed anymore in our data"
      ],
      "metadata": {
        "nteract": {
          "transient": {
            "deleting": false
          }
        }
      }
    },
    {
      "cell_type": "code",
      "source": [
        "df = df.drop(['product_id', 'category'], axis=1)\n",
        "df.head()"
      ],
      "outputs": [
        {
          "output_type": "execute_result",
          "execution_count": 18,
          "data": {
            "text/plain": "  product_name  discounted_price  actual_price discount_percentage rating  \\\n0       Wayona            4.7500       13.0833                 64%    4.2   \n1      Ambrane            2.3690        4.1548                 43%    4.0   \n2       Sounce            2.3690       22.6071                 90%    3.9   \n3         boAt            3.9167        8.3214                 53%    4.2   \n4   Portronics            1.8333        4.7500                 61%    4.2   \n\n  rating_count       category_general category_detailed  \n0       24,269  Computers&Accessories         USBCables  \n1       43,994  Computers&Accessories         USBCables  \n2        7,928  Computers&Accessories         USBCables  \n3       94,363  Computers&Accessories         USBCables  \n4       16,905  Computers&Accessories         USBCables  ",
            "text/html": "<div>\n<style scoped>\n    .dataframe tbody tr th:only-of-type {\n        vertical-align: middle;\n    }\n\n    .dataframe tbody tr th {\n        vertical-align: top;\n    }\n\n    .dataframe thead th {\n        text-align: right;\n    }\n</style>\n<table border=\"1\" class=\"dataframe\">\n  <thead>\n    <tr style=\"text-align: right;\">\n      <th></th>\n      <th>product_name</th>\n      <th>discounted_price</th>\n      <th>actual_price</th>\n      <th>discount_percentage</th>\n      <th>rating</th>\n      <th>rating_count</th>\n      <th>category_general</th>\n      <th>category_detailed</th>\n    </tr>\n  </thead>\n  <tbody>\n    <tr>\n      <th>0</th>\n      <td>Wayona</td>\n      <td>4.7500</td>\n      <td>13.0833</td>\n      <td>64%</td>\n      <td>4.2</td>\n      <td>24,269</td>\n      <td>Computers&amp;Accessories</td>\n      <td>USBCables</td>\n    </tr>\n    <tr>\n      <th>1</th>\n      <td>Ambrane</td>\n      <td>2.3690</td>\n      <td>4.1548</td>\n      <td>43%</td>\n      <td>4.0</td>\n      <td>43,994</td>\n      <td>Computers&amp;Accessories</td>\n      <td>USBCables</td>\n    </tr>\n    <tr>\n      <th>2</th>\n      <td>Sounce</td>\n      <td>2.3690</td>\n      <td>22.6071</td>\n      <td>90%</td>\n      <td>3.9</td>\n      <td>7,928</td>\n      <td>Computers&amp;Accessories</td>\n      <td>USBCables</td>\n    </tr>\n    <tr>\n      <th>3</th>\n      <td>boAt</td>\n      <td>3.9167</td>\n      <td>8.3214</td>\n      <td>53%</td>\n      <td>4.2</td>\n      <td>94,363</td>\n      <td>Computers&amp;Accessories</td>\n      <td>USBCables</td>\n    </tr>\n    <tr>\n      <th>4</th>\n      <td>Portronics</td>\n      <td>1.8333</td>\n      <td>4.7500</td>\n      <td>61%</td>\n      <td>4.2</td>\n      <td>16,905</td>\n      <td>Computers&amp;Accessories</td>\n      <td>USBCables</td>\n    </tr>\n  </tbody>\n</table>\n</div>"
          },
          "metadata": {}
        }
      ],
      "execution_count": 18,
      "metadata": {
        "jupyter": {
          "source_hidden": false,
          "outputs_hidden": false
        },
        "nteract": {
          "transient": {
            "deleting": false
          }
        },
        "gather": {
          "logged": 1728055038548
        }
      }
    },
    {
      "cell_type": "markdown",
      "source": [
        "#### Now for the final step of data preparation I will create new features with the help of rating and rating count columns."
      ],
      "metadata": {
        "nteract": {
          "transient": {
            "deleting": false
          }
        }
      }
    },
    {
      "cell_type": "code",
      "source": [
        "df['rating'] = pd.to_numeric(df['rating'], errors='coerce')\n",
        "df['rating'] = df['rating'].fillna(0)\n",
        "df['rating_count'] = df['rating_count'].fillna(\"0\")\n",
        "df['rating_count'] = df['rating_count'].str.replace(\",\", \"\")\n",
        "df['rating_count'] = pd.to_numeric(df['rating_count'], errors='coerce').fillna(0).astype(int)\n",
        "print(df['rating'].head())\n",
        "print(df['rating_count'].head())"
      ],
      "outputs": [
        {
          "output_type": "stream",
          "name": "stdout",
          "text": "0    4.2\n1    4.0\n2    3.9\n3    4.2\n4    4.2\nName: rating, dtype: float64\n0    24269\n1    43994\n2     7928\n3    94363\n4    16905\nName: rating_count, dtype: int64\n"
        }
      ],
      "execution_count": 19,
      "metadata": {
        "jupyter": {
          "source_hidden": false,
          "outputs_hidden": false
        },
        "nteract": {
          "transient": {
            "deleting": false
          }
        },
        "gather": {
          "logged": 1728055038863
        }
      }
    },
    {
      "cell_type": "code",
      "source": [
        "df['log_rev_count'] = np.log1p(df['rating_count'])\n",
        "df['rating_popularity'] = df['rating_count'] / df['rating_count'].max()\n",
        "\n",
        "print(df['log_rev_count'].head())\n",
        "print(df['rating_popularity'].head())"
      ],
      "outputs": [
        {
          "output_type": "stream",
          "name": "stdout",
          "text": "0    10.096996\n1    10.691831\n2     8.978282\n3    11.454915\n4     9.735424\nName: log_rev_count, dtype: float64\n0    0.056840\n1    0.103037\n2    0.018568\n3    0.221005\n4    0.039593\nName: rating_popularity, dtype: float64\n"
        }
      ],
      "execution_count": 20,
      "metadata": {
        "jupyter": {
          "source_hidden": false,
          "outputs_hidden": false
        },
        "nteract": {
          "transient": {
            "deleting": false
          }
        },
        "gather": {
          "logged": 1728055039145
        }
      }
    },
    {
      "cell_type": "markdown",
      "source": [
        "#### I forgot it but we need to convert percents to numeric representation as well"
      ],
      "metadata": {
        "nteract": {
          "transient": {
            "deleting": false
          }
        }
      }
    },
    {
      "cell_type": "code",
      "source": [
        "df['discount_percentage'] = df['discount_percentage'].str.replace(\"%\",\"\").astype(float)\n",
        "df['discount_percentage'] = df['discount_percentage'] / 100\n",
        "df['discount_percentage'].head()"
      ],
      "outputs": [
        {
          "output_type": "execute_result",
          "execution_count": 21,
          "data": {
            "text/plain": "0    0.64\n1    0.43\n2    0.90\n3    0.53\n4    0.61\nName: discount_percentage, dtype: float64"
          },
          "metadata": {}
        }
      ],
      "execution_count": 21,
      "metadata": {
        "jupyter": {
          "source_hidden": false,
          "outputs_hidden": false
        },
        "nteract": {
          "transient": {
            "deleting": false
          }
        },
        "gather": {
          "logged": 1728055039472
        }
      }
    },
    {
      "cell_type": "code",
      "source": [
        "df.head()"
      ],
      "outputs": [
        {
          "output_type": "execute_result",
          "execution_count": 22,
          "data": {
            "text/plain": "  product_name  discounted_price  actual_price  discount_percentage  rating  \\\n0       Wayona            4.7500       13.0833                 0.64     4.2   \n1      Ambrane            2.3690        4.1548                 0.43     4.0   \n2       Sounce            2.3690       22.6071                 0.90     3.9   \n3         boAt            3.9167        8.3214                 0.53     4.2   \n4   Portronics            1.8333        4.7500                 0.61     4.2   \n\n   rating_count       category_general category_detailed  log_rev_count  \\\n0         24269  Computers&Accessories         USBCables      10.096996   \n1         43994  Computers&Accessories         USBCables      10.691831   \n2          7928  Computers&Accessories         USBCables       8.978282   \n3         94363  Computers&Accessories         USBCables      11.454915   \n4         16905  Computers&Accessories         USBCables       9.735424   \n\n   rating_popularity  \n0           0.056840  \n1           0.103037  \n2           0.018568  \n3           0.221005  \n4           0.039593  ",
            "text/html": "<div>\n<style scoped>\n    .dataframe tbody tr th:only-of-type {\n        vertical-align: middle;\n    }\n\n    .dataframe tbody tr th {\n        vertical-align: top;\n    }\n\n    .dataframe thead th {\n        text-align: right;\n    }\n</style>\n<table border=\"1\" class=\"dataframe\">\n  <thead>\n    <tr style=\"text-align: right;\">\n      <th></th>\n      <th>product_name</th>\n      <th>discounted_price</th>\n      <th>actual_price</th>\n      <th>discount_percentage</th>\n      <th>rating</th>\n      <th>rating_count</th>\n      <th>category_general</th>\n      <th>category_detailed</th>\n      <th>log_rev_count</th>\n      <th>rating_popularity</th>\n    </tr>\n  </thead>\n  <tbody>\n    <tr>\n      <th>0</th>\n      <td>Wayona</td>\n      <td>4.7500</td>\n      <td>13.0833</td>\n      <td>0.64</td>\n      <td>4.2</td>\n      <td>24269</td>\n      <td>Computers&amp;Accessories</td>\n      <td>USBCables</td>\n      <td>10.096996</td>\n      <td>0.056840</td>\n    </tr>\n    <tr>\n      <th>1</th>\n      <td>Ambrane</td>\n      <td>2.3690</td>\n      <td>4.1548</td>\n      <td>0.43</td>\n      <td>4.0</td>\n      <td>43994</td>\n      <td>Computers&amp;Accessories</td>\n      <td>USBCables</td>\n      <td>10.691831</td>\n      <td>0.103037</td>\n    </tr>\n    <tr>\n      <th>2</th>\n      <td>Sounce</td>\n      <td>2.3690</td>\n      <td>22.6071</td>\n      <td>0.90</td>\n      <td>3.9</td>\n      <td>7928</td>\n      <td>Computers&amp;Accessories</td>\n      <td>USBCables</td>\n      <td>8.978282</td>\n      <td>0.018568</td>\n    </tr>\n    <tr>\n      <th>3</th>\n      <td>boAt</td>\n      <td>3.9167</td>\n      <td>8.3214</td>\n      <td>0.53</td>\n      <td>4.2</td>\n      <td>94363</td>\n      <td>Computers&amp;Accessories</td>\n      <td>USBCables</td>\n      <td>11.454915</td>\n      <td>0.221005</td>\n    </tr>\n    <tr>\n      <th>4</th>\n      <td>Portronics</td>\n      <td>1.8333</td>\n      <td>4.7500</td>\n      <td>0.61</td>\n      <td>4.2</td>\n      <td>16905</td>\n      <td>Computers&amp;Accessories</td>\n      <td>USBCables</td>\n      <td>9.735424</td>\n      <td>0.039593</td>\n    </tr>\n  </tbody>\n</table>\n</div>"
          },
          "metadata": {}
        }
      ],
      "execution_count": 22,
      "metadata": {
        "jupyter": {
          "source_hidden": false,
          "outputs_hidden": false
        },
        "nteract": {
          "transient": {
            "deleting": false
          }
        },
        "gather": {
          "logged": 1728055039811
        }
      }
    },
    {
      "cell_type": "markdown",
      "source": [
        "### Now I will be doing encoding to the columns that are object so that our algorithm could understand what they are."
      ],
      "metadata": {
        "nteract": {
          "transient": {
            "deleting": false
          }
        }
      }
    },
    {
      "cell_type": "markdown",
      "source": [
        "#### Firstly I will do one hot encoding to the general category because we have few unique values there so it suits but for the other two we will use something more suitable which is bayesian Target encoding."
      ],
      "metadata": {
        "nteract": {
          "transient": {
            "deleting": false
          }
        }
      }
    },
    {
      "cell_type": "code",
      "source": [
        "category_general_encoded = pd.get_dummies(df[\"category_general\"], prefix=\"category_general\")\n",
        "df = pd.concat([df, category_general_encoded], axis=1)\n",
        "category_mapper = df[\"category_general\"]\n",
        "df = df.drop(\"category_general\", axis=1)\n",
        "df.head()"
      ],
      "outputs": [
        {
          "output_type": "execute_result",
          "execution_count": 23,
          "data": {
            "text/plain": "  product_name  discounted_price  actual_price  discount_percentage  rating  \\\n0       Wayona            4.7500       13.0833                 0.64     4.2   \n1      Ambrane            2.3690        4.1548                 0.43     4.0   \n2       Sounce            2.3690       22.6071                 0.90     3.9   \n3         boAt            3.9167        8.3214                 0.53     4.2   \n4   Portronics            1.8333        4.7500                 0.61     4.2   \n\n   rating_count category_detailed  log_rev_count  rating_popularity  \\\n0         24269         USBCables      10.096996           0.056840   \n1         43994         USBCables      10.691831           0.103037   \n2          7928         USBCables       8.978282           0.018568   \n3         94363         USBCables      11.454915           0.221005   \n4         16905         USBCables       9.735424           0.039593   \n\n   category_general_Car&Motorbike  category_general_Computers&Accessories  \\\n0                               0                                       1   \n1                               0                                       1   \n2                               0                                       1   \n3                               0                                       1   \n4                               0                                       1   \n\n   category_general_Electronics  category_general_Health&PersonalCare  \\\n0                             0                                     0   \n1                             0                                     0   \n2                             0                                     0   \n3                             0                                     0   \n4                             0                                     0   \n\n   category_general_Home&Kitchen  category_general_HomeImprovement  \\\n0                              0                                 0   \n1                              0                                 0   \n2                              0                                 0   \n3                              0                                 0   \n4                              0                                 0   \n\n   category_general_MusicalInstruments  category_general_OfficeProducts  \\\n0                                    0                                0   \n1                                    0                                0   \n2                                    0                                0   \n3                                    0                                0   \n4                                    0                                0   \n\n   category_general_Toys&Games  \n0                            0  \n1                            0  \n2                            0  \n3                            0  \n4                            0  ",
            "text/html": "<div>\n<style scoped>\n    .dataframe tbody tr th:only-of-type {\n        vertical-align: middle;\n    }\n\n    .dataframe tbody tr th {\n        vertical-align: top;\n    }\n\n    .dataframe thead th {\n        text-align: right;\n    }\n</style>\n<table border=\"1\" class=\"dataframe\">\n  <thead>\n    <tr style=\"text-align: right;\">\n      <th></th>\n      <th>product_name</th>\n      <th>discounted_price</th>\n      <th>actual_price</th>\n      <th>discount_percentage</th>\n      <th>rating</th>\n      <th>rating_count</th>\n      <th>category_detailed</th>\n      <th>log_rev_count</th>\n      <th>rating_popularity</th>\n      <th>category_general_Car&amp;Motorbike</th>\n      <th>category_general_Computers&amp;Accessories</th>\n      <th>category_general_Electronics</th>\n      <th>category_general_Health&amp;PersonalCare</th>\n      <th>category_general_Home&amp;Kitchen</th>\n      <th>category_general_HomeImprovement</th>\n      <th>category_general_MusicalInstruments</th>\n      <th>category_general_OfficeProducts</th>\n      <th>category_general_Toys&amp;Games</th>\n    </tr>\n  </thead>\n  <tbody>\n    <tr>\n      <th>0</th>\n      <td>Wayona</td>\n      <td>4.7500</td>\n      <td>13.0833</td>\n      <td>0.64</td>\n      <td>4.2</td>\n      <td>24269</td>\n      <td>USBCables</td>\n      <td>10.096996</td>\n      <td>0.056840</td>\n      <td>0</td>\n      <td>1</td>\n      <td>0</td>\n      <td>0</td>\n      <td>0</td>\n      <td>0</td>\n      <td>0</td>\n      <td>0</td>\n      <td>0</td>\n    </tr>\n    <tr>\n      <th>1</th>\n      <td>Ambrane</td>\n      <td>2.3690</td>\n      <td>4.1548</td>\n      <td>0.43</td>\n      <td>4.0</td>\n      <td>43994</td>\n      <td>USBCables</td>\n      <td>10.691831</td>\n      <td>0.103037</td>\n      <td>0</td>\n      <td>1</td>\n      <td>0</td>\n      <td>0</td>\n      <td>0</td>\n      <td>0</td>\n      <td>0</td>\n      <td>0</td>\n      <td>0</td>\n    </tr>\n    <tr>\n      <th>2</th>\n      <td>Sounce</td>\n      <td>2.3690</td>\n      <td>22.6071</td>\n      <td>0.90</td>\n      <td>3.9</td>\n      <td>7928</td>\n      <td>USBCables</td>\n      <td>8.978282</td>\n      <td>0.018568</td>\n      <td>0</td>\n      <td>1</td>\n      <td>0</td>\n      <td>0</td>\n      <td>0</td>\n      <td>0</td>\n      <td>0</td>\n      <td>0</td>\n      <td>0</td>\n    </tr>\n    <tr>\n      <th>3</th>\n      <td>boAt</td>\n      <td>3.9167</td>\n      <td>8.3214</td>\n      <td>0.53</td>\n      <td>4.2</td>\n      <td>94363</td>\n      <td>USBCables</td>\n      <td>11.454915</td>\n      <td>0.221005</td>\n      <td>0</td>\n      <td>1</td>\n      <td>0</td>\n      <td>0</td>\n      <td>0</td>\n      <td>0</td>\n      <td>0</td>\n      <td>0</td>\n      <td>0</td>\n    </tr>\n    <tr>\n      <th>4</th>\n      <td>Portronics</td>\n      <td>1.8333</td>\n      <td>4.7500</td>\n      <td>0.61</td>\n      <td>4.2</td>\n      <td>16905</td>\n      <td>USBCables</td>\n      <td>9.735424</td>\n      <td>0.039593</td>\n      <td>0</td>\n      <td>1</td>\n      <td>0</td>\n      <td>0</td>\n      <td>0</td>\n      <td>0</td>\n      <td>0</td>\n      <td>0</td>\n      <td>0</td>\n    </tr>\n  </tbody>\n</table>\n</div>"
          },
          "metadata": {}
        }
      ],
      "execution_count": 23,
      "metadata": {
        "jupyter": {
          "source_hidden": false,
          "outputs_hidden": false
        },
        "nteract": {
          "transient": {
            "deleting": false
          }
        },
        "gather": {
          "logged": 1728055040182
        }
      }
    },
    {
      "cell_type": "code",
      "source": [
        "!pip install category_encoders"
      ],
      "outputs": [
        {
          "output_type": "stream",
          "name": "stdout",
          "text": "Requirement already satisfied: category_encoders in /anaconda/envs/azureml_py38/lib/python3.9/site-packages (2.6.4)\r\nRequirement already satisfied: patsy>=0.5.1 in /anaconda/envs/azureml_py38/lib/python3.9/site-packages (from category_encoders) (0.5.6)\r\nRequirement already satisfied: scikit-learn>=0.20.0 in /anaconda/envs/azureml_py38/lib/python3.9/site-packages (from category_encoders) (1.1.3)\r\nRequirement already satisfied: pandas>=1.0.5 in /anaconda/envs/azureml_py38/lib/python3.9/site-packages (from category_encoders) (1.3.5)\r\nRequirement already satisfied: statsmodels>=0.9.0 in /anaconda/envs/azureml_py38/lib/python3.9/site-packages (from category_encoders) (0.13.5)\r\nRequirement already satisfied: numpy>=1.14.0 in /anaconda/envs/azureml_py38/lib/python3.9/site-packages (from category_encoders) (1.23.5)\r\nRequirement already satisfied: scipy>=1.0.0 in /anaconda/envs/azureml_py38/lib/python3.9/site-packages (from category_encoders) (1.5.3)\r\nRequirement already satisfied: python-dateutil>=2.7.3 in /anaconda/envs/azureml_py38/lib/python3.9/site-packages (from pandas>=1.0.5->category_encoders) (2.9.0.post0)\r\nRequirement already satisfied: pytz>=2017.3 in /anaconda/envs/azureml_py38/lib/python3.9/site-packages (from pandas>=1.0.5->category_encoders) (2022.5)\r\nRequirement already satisfied: six in /anaconda/envs/azureml_py38/lib/python3.9/site-packages (from patsy>=0.5.1->category_encoders) (1.16.0)\r\nRequirement already satisfied: threadpoolctl>=2.0.0 in /anaconda/envs/azureml_py38/lib/python3.9/site-packages (from scikit-learn>=0.20.0->category_encoders) (3.4.0)\r\nRequirement already satisfied: joblib>=1.0.0 in /anaconda/envs/azureml_py38/lib/python3.9/site-packages (from scikit-learn>=0.20.0->category_encoders) (1.2.0)\r\nRequirement already satisfied: packaging>=21.3 in /anaconda/envs/azureml_py38/lib/python3.9/site-packages (from statsmodels>=0.9.0->category_encoders) (24.0)\r\n"
        }
      ],
      "execution_count": 24,
      "metadata": {
        "jupyter": {
          "source_hidden": false,
          "outputs_hidden": false
        },
        "nteract": {
          "transient": {
            "deleting": false
          }
        }
      }
    },
    {
      "cell_type": "markdown",
      "source": [
        "### I will train seperate models for discounted price prediction and actual price prediction and because of it I will have two different bayesian target encoded datasets."
      ],
      "metadata": {
        "nteract": {
          "transient": {
            "deleting": false
          }
        }
      }
    },
    {
      "cell_type": "code",
      "source": [
        "from category_encoders import TargetEncoder\n",
        "\n",
        "brand_encoder = TargetEncoder(cols=[\"product_name\"], smoothing=1.0)\n",
        "brand_encoded = brand_encoder.fit_transform(df[\"product_name\"], df[\"actual_price\"])\n",
        "category_encoder = TargetEncoder(cols=[\"category_detailed\"], smoothing=1)\n",
        "category_encoded = category_encoder.fit_transform(df[\"category_detailed\"], df[\"actual_price\"])\n",
        "price_training_df = df\n",
        "price_training_df[\"brand_encoded\"] = brand_encoded\n",
        "price_training_df[\"category_detailed_encoded\"] = category_encoded\n",
        "price_training_df = price_training_df.drop([\"product_name\", \"category_detailed\"], axis=1)\n",
        "price_training_df.head()"
      ],
      "outputs": [
        {
          "output_type": "execute_result",
          "execution_count": 25,
          "data": {
            "text/plain": "   discounted_price  actual_price  discount_percentage  rating  rating_count  \\\n0            4.7500       13.0833                 0.64     4.2         24269   \n1            2.3690        4.1548                 0.43     4.0         43994   \n2            2.3690       22.6071                 0.90     3.9          7928   \n3            3.9167        8.3214                 0.53     4.2         94363   \n4            1.8333        4.7500                 0.61     4.2         16905   \n\n   log_rev_count  rating_popularity  category_general_Car&Motorbike  \\\n0      10.096996           0.056840                               0   \n1      10.691831           0.103037                               0   \n2       8.978282           0.018568                               0   \n3      11.454915           0.221005                               0   \n4       9.735424           0.039593                               0   \n\n   category_general_Computers&Accessories  category_general_Electronics  \\\n0                                       1                             0   \n1                                       1                             0   \n2                                       1                             0   \n3                                       1                             0   \n4                                       1                             0   \n\n   category_general_Health&PersonalCare  category_general_Home&Kitchen  \\\n0                                     0                              0   \n1                                     0                              0   \n2                                     0                              0   \n3                                     0                              0   \n4                                     0                              0   \n\n   category_general_HomeImprovement  category_general_MusicalInstruments  \\\n0                                 0                                    0   \n1                                 0                                    0   \n2                                 0                                    0   \n3                                 0                                    0   \n4                                 0                                    0   \n\n   category_general_OfficeProducts  category_general_Toys&Games  \\\n0                                0                            0   \n1                                0                            0   \n2                                0                            0   \n3                                0                            0   \n4                                0                            0   \n\n   brand_encoded  category_detailed_encoded  \n0      15.329098                   10.78599  \n1       8.800438                   10.78599  \n2      64.815149                   10.78599  \n3      39.349501                   10.78599  \n4       9.981335                   10.78599  ",
            "text/html": "<div>\n<style scoped>\n    .dataframe tbody tr th:only-of-type {\n        vertical-align: middle;\n    }\n\n    .dataframe tbody tr th {\n        vertical-align: top;\n    }\n\n    .dataframe thead th {\n        text-align: right;\n    }\n</style>\n<table border=\"1\" class=\"dataframe\">\n  <thead>\n    <tr style=\"text-align: right;\">\n      <th></th>\n      <th>discounted_price</th>\n      <th>actual_price</th>\n      <th>discount_percentage</th>\n      <th>rating</th>\n      <th>rating_count</th>\n      <th>log_rev_count</th>\n      <th>rating_popularity</th>\n      <th>category_general_Car&amp;Motorbike</th>\n      <th>category_general_Computers&amp;Accessories</th>\n      <th>category_general_Electronics</th>\n      <th>category_general_Health&amp;PersonalCare</th>\n      <th>category_general_Home&amp;Kitchen</th>\n      <th>category_general_HomeImprovement</th>\n      <th>category_general_MusicalInstruments</th>\n      <th>category_general_OfficeProducts</th>\n      <th>category_general_Toys&amp;Games</th>\n      <th>brand_encoded</th>\n      <th>category_detailed_encoded</th>\n    </tr>\n  </thead>\n  <tbody>\n    <tr>\n      <th>0</th>\n      <td>4.7500</td>\n      <td>13.0833</td>\n      <td>0.64</td>\n      <td>4.2</td>\n      <td>24269</td>\n      <td>10.096996</td>\n      <td>0.056840</td>\n      <td>0</td>\n      <td>1</td>\n      <td>0</td>\n      <td>0</td>\n      <td>0</td>\n      <td>0</td>\n      <td>0</td>\n      <td>0</td>\n      <td>0</td>\n      <td>15.329098</td>\n      <td>10.78599</td>\n    </tr>\n    <tr>\n      <th>1</th>\n      <td>2.3690</td>\n      <td>4.1548</td>\n      <td>0.43</td>\n      <td>4.0</td>\n      <td>43994</td>\n      <td>10.691831</td>\n      <td>0.103037</td>\n      <td>0</td>\n      <td>1</td>\n      <td>0</td>\n      <td>0</td>\n      <td>0</td>\n      <td>0</td>\n      <td>0</td>\n      <td>0</td>\n      <td>0</td>\n      <td>8.800438</td>\n      <td>10.78599</td>\n    </tr>\n    <tr>\n      <th>2</th>\n      <td>2.3690</td>\n      <td>22.6071</td>\n      <td>0.90</td>\n      <td>3.9</td>\n      <td>7928</td>\n      <td>8.978282</td>\n      <td>0.018568</td>\n      <td>0</td>\n      <td>1</td>\n      <td>0</td>\n      <td>0</td>\n      <td>0</td>\n      <td>0</td>\n      <td>0</td>\n      <td>0</td>\n      <td>0</td>\n      <td>64.815149</td>\n      <td>10.78599</td>\n    </tr>\n    <tr>\n      <th>3</th>\n      <td>3.9167</td>\n      <td>8.3214</td>\n      <td>0.53</td>\n      <td>4.2</td>\n      <td>94363</td>\n      <td>11.454915</td>\n      <td>0.221005</td>\n      <td>0</td>\n      <td>1</td>\n      <td>0</td>\n      <td>0</td>\n      <td>0</td>\n      <td>0</td>\n      <td>0</td>\n      <td>0</td>\n      <td>0</td>\n      <td>39.349501</td>\n      <td>10.78599</td>\n    </tr>\n    <tr>\n      <th>4</th>\n      <td>1.8333</td>\n      <td>4.7500</td>\n      <td>0.61</td>\n      <td>4.2</td>\n      <td>16905</td>\n      <td>9.735424</td>\n      <td>0.039593</td>\n      <td>0</td>\n      <td>1</td>\n      <td>0</td>\n      <td>0</td>\n      <td>0</td>\n      <td>0</td>\n      <td>0</td>\n      <td>0</td>\n      <td>0</td>\n      <td>9.981335</td>\n      <td>10.78599</td>\n    </tr>\n  </tbody>\n</table>\n</div>"
          },
          "metadata": {}
        }
      ],
      "execution_count": 25,
      "metadata": {
        "jupyter": {
          "source_hidden": false,
          "outputs_hidden": false
        },
        "nteract": {
          "transient": {
            "deleting": false
          }
        },
        "gather": {
          "logged": 1728055041613
        }
      }
    },
    {
      "cell_type": "code",
      "source": [
        "brand_encoder = TargetEncoder(cols=[\"product_name\"], smoothing=1.0)\n",
        "brand_encoded =  brand_encoder.fit_transform(df[\"product_name\"], df[\"discounted_price\"])\n",
        "category_encoder = TargetEncoder(cols=[\"category_detailed\"], smoothing=1.0)\n",
        "category_encoded = category_encoder.fit_transform(df[\"category_detailed\"], df[\"discounted_price\"])\n",
        "discounted_price_df = df\n",
        "discounted_price_df[\"brand_encoded\"] = brand_encoded\n",
        "discounted_price_df[\"category_detailed_encoded\"] = category_encoded\n",
        "discounted_price_df = discounted_price_df.drop([\"product_name\", \"category_detailed\"], axis=1)\n",
        "discounted_price_df.head()"
      ],
      "outputs": [
        {
          "output_type": "execute_result",
          "execution_count": 26,
          "data": {
            "text/plain": "   discounted_price  actual_price  discount_percentage  rating  rating_count  \\\n0            4.7500       13.0833                 0.64     4.2         24269   \n1            2.3690        4.1548                 0.43     4.0         43994   \n2            2.3690       22.6071                 0.90     3.9          7928   \n3            3.9167        8.3214                 0.53     4.2         94363   \n4            1.8333        4.7500                 0.61     4.2         16905   \n\n   log_rev_count  rating_popularity  category_general_Car&Motorbike  \\\n0      10.096996           0.056840                               0   \n1      10.691831           0.103037                               0   \n2       8.978282           0.018568                               0   \n3      11.454915           0.221005                               0   \n4       9.735424           0.039593                               0   \n\n   category_general_Computers&Accessories  category_general_Electronics  \\\n0                                       1                             0   \n1                                       1                             0   \n2                                       1                             0   \n3                                       1                             0   \n4                                       1                             0   \n\n   category_general_Health&PersonalCare  category_general_Home&Kitchen  \\\n0                                     0                              0   \n1                                     0                              0   \n2                                     0                              0   \n3                                     0                              0   \n4                                     0                              0   \n\n   category_general_HomeImprovement  category_general_MusicalInstruments  \\\n0                                 0                                    0   \n1                                 0                                    0   \n2                                 0                                    0   \n3                                 0                                    0   \n4                                 0                                    0   \n\n   category_general_OfficeProducts  category_general_Toys&Games  \\\n0                                0                            0   \n1                                0                            0   \n2                                0                            0   \n3                                0                            0   \n4                                0                            0   \n\n   brand_encoded  category_detailed_encoded  \n0       5.642577                   4.294327  \n1       5.443572                   4.294327  \n2      37.201776                   4.294327  \n3      12.566443                   4.294327  \n4       4.694478                   4.294327  ",
            "text/html": "<div>\n<style scoped>\n    .dataframe tbody tr th:only-of-type {\n        vertical-align: middle;\n    }\n\n    .dataframe tbody tr th {\n        vertical-align: top;\n    }\n\n    .dataframe thead th {\n        text-align: right;\n    }\n</style>\n<table border=\"1\" class=\"dataframe\">\n  <thead>\n    <tr style=\"text-align: right;\">\n      <th></th>\n      <th>discounted_price</th>\n      <th>actual_price</th>\n      <th>discount_percentage</th>\n      <th>rating</th>\n      <th>rating_count</th>\n      <th>log_rev_count</th>\n      <th>rating_popularity</th>\n      <th>category_general_Car&amp;Motorbike</th>\n      <th>category_general_Computers&amp;Accessories</th>\n      <th>category_general_Electronics</th>\n      <th>category_general_Health&amp;PersonalCare</th>\n      <th>category_general_Home&amp;Kitchen</th>\n      <th>category_general_HomeImprovement</th>\n      <th>category_general_MusicalInstruments</th>\n      <th>category_general_OfficeProducts</th>\n      <th>category_general_Toys&amp;Games</th>\n      <th>brand_encoded</th>\n      <th>category_detailed_encoded</th>\n    </tr>\n  </thead>\n  <tbody>\n    <tr>\n      <th>0</th>\n      <td>4.7500</td>\n      <td>13.0833</td>\n      <td>0.64</td>\n      <td>4.2</td>\n      <td>24269</td>\n      <td>10.096996</td>\n      <td>0.056840</td>\n      <td>0</td>\n      <td>1</td>\n      <td>0</td>\n      <td>0</td>\n      <td>0</td>\n      <td>0</td>\n      <td>0</td>\n      <td>0</td>\n      <td>0</td>\n      <td>5.642577</td>\n      <td>4.294327</td>\n    </tr>\n    <tr>\n      <th>1</th>\n      <td>2.3690</td>\n      <td>4.1548</td>\n      <td>0.43</td>\n      <td>4.0</td>\n      <td>43994</td>\n      <td>10.691831</td>\n      <td>0.103037</td>\n      <td>0</td>\n      <td>1</td>\n      <td>0</td>\n      <td>0</td>\n      <td>0</td>\n      <td>0</td>\n      <td>0</td>\n      <td>0</td>\n      <td>0</td>\n      <td>5.443572</td>\n      <td>4.294327</td>\n    </tr>\n    <tr>\n      <th>2</th>\n      <td>2.3690</td>\n      <td>22.6071</td>\n      <td>0.90</td>\n      <td>3.9</td>\n      <td>7928</td>\n      <td>8.978282</td>\n      <td>0.018568</td>\n      <td>0</td>\n      <td>1</td>\n      <td>0</td>\n      <td>0</td>\n      <td>0</td>\n      <td>0</td>\n      <td>0</td>\n      <td>0</td>\n      <td>0</td>\n      <td>37.201776</td>\n      <td>4.294327</td>\n    </tr>\n    <tr>\n      <th>3</th>\n      <td>3.9167</td>\n      <td>8.3214</td>\n      <td>0.53</td>\n      <td>4.2</td>\n      <td>94363</td>\n      <td>11.454915</td>\n      <td>0.221005</td>\n      <td>0</td>\n      <td>1</td>\n      <td>0</td>\n      <td>0</td>\n      <td>0</td>\n      <td>0</td>\n      <td>0</td>\n      <td>0</td>\n      <td>0</td>\n      <td>12.566443</td>\n      <td>4.294327</td>\n    </tr>\n    <tr>\n      <th>4</th>\n      <td>1.8333</td>\n      <td>4.7500</td>\n      <td>0.61</td>\n      <td>4.2</td>\n      <td>16905</td>\n      <td>9.735424</td>\n      <td>0.039593</td>\n      <td>0</td>\n      <td>1</td>\n      <td>0</td>\n      <td>0</td>\n      <td>0</td>\n      <td>0</td>\n      <td>0</td>\n      <td>0</td>\n      <td>0</td>\n      <td>4.694478</td>\n      <td>4.294327</td>\n    </tr>\n  </tbody>\n</table>\n</div>"
          },
          "metadata": {}
        }
      ],
      "execution_count": 26,
      "metadata": {
        "jupyter": {
          "source_hidden": false,
          "outputs_hidden": false
        },
        "nteract": {
          "transient": {
            "deleting": false
          }
        },
        "gather": {
          "logged": 1728055042035
        }
      }
    },
    {
      "cell_type": "markdown",
      "source": [
        "### Now we have done with the data preparation and time to train a model"
      ],
      "metadata": {
        "nteract": {
          "transient": {
            "deleting": false
          }
        }
      }
    },
    {
      "cell_type": "markdown",
      "source": [
        "##### Firstly I will train a price predictor then I will train a discounted price predictor by category."
      ],
      "metadata": {
        "nteract": {
          "transient": {
            "deleting": false
          }
        }
      }
    },
    {
      "cell_type": "markdown",
      "source": [
        "###### Let's import necessary libraries for model training."
      ],
      "metadata": {
        "nteract": {
          "transient": {
            "deleting": false
          }
        }
      }
    },
    {
      "cell_type": "code",
      "source": [
        "!pip install keras"
      ],
      "outputs": [
        {
          "output_type": "stream",
          "name": "stdout",
          "text": "Requirement already satisfied: keras in /anaconda/envs/azureml_py38/lib/python3.9/site-packages (3.3.3)\r\nRequirement already satisfied: ml-dtypes in /anaconda/envs/azureml_py38/lib/python3.9/site-packages (from keras) (0.4.0)\r\nRequirement already satisfied: optree in /anaconda/envs/azureml_py38/lib/python3.9/site-packages (from keras) (0.11.0)\r\nRequirement already satisfied: h5py in /anaconda/envs/azureml_py38/lib/python3.9/site-packages (from keras) (3.11.0)\r\nRequirement already satisfied: numpy in /anaconda/envs/azureml_py38/lib/python3.9/site-packages (from keras) (1.23.5)\r\nRequirement already satisfied: rich in /anaconda/envs/azureml_py38/lib/python3.9/site-packages (from keras) (13.7.1)\r\nRequirement already satisfied: absl-py in /anaconda/envs/azureml_py38/lib/python3.9/site-packages (from keras) (2.1.0)\r\nRequirement already satisfied: namex in /anaconda/envs/azureml_py38/lib/python3.9/site-packages (from keras) (0.0.8)\r\nRequirement already satisfied: typing-extensions>=4.0.0 in /anaconda/envs/azureml_py38/lib/python3.9/site-packages (from optree->keras) (4.12.2)\r\nRequirement already satisfied: markdown-it-py>=2.2.0 in /anaconda/envs/azureml_py38/lib/python3.9/site-packages (from rich->keras) (3.0.0)\r\nRequirement already satisfied: pygments<3.0.0,>=2.13.0 in /anaconda/envs/azureml_py38/lib/python3.9/site-packages (from rich->keras) (2.18.0)\r\nRequirement already satisfied: mdurl~=0.1 in /anaconda/envs/azureml_py38/lib/python3.9/site-packages (from markdown-it-py>=2.2.0->rich->keras) (0.1.2)\r\n"
        }
      ],
      "execution_count": 27,
      "metadata": {
        "jupyter": {
          "source_hidden": false,
          "outputs_hidden": false
        },
        "nteract": {
          "transient": {
            "deleting": false
          }
        }
      }
    },
    {
      "cell_type": "code",
      "source": [
        "import tensorflow as tf\n",
        "print(tf.__version__)\n",
        "from sklearn.preprocessing import StandardScaler\n",
        "from tensorflow import keras\n",
        "from tensorflow.keras import layers\n",
        "from tensorflow.keras import models\n",
        "from tensorflow.keras.models import Sequential \n",
        "from tensorflow.keras.layers import Dense\n",
        "\n"
      ],
      "outputs": [
        {
          "output_type": "stream",
          "name": "stderr",
          "text": "2024-10-04 15:17:31.574267: W tensorflow/stream_executor/platform/default/dso_loader.cc:64] Could not load dynamic library 'libcudart.so.11.0'; dlerror: libcudart.so.11.0: cannot open shared object file: No such file or directory\n2024-10-04 15:17:31.574300: I tensorflow/stream_executor/cuda/cudart_stub.cc:29] Ignore above cudart dlerror if you do not have a GPU set up on your machine.\n"
        },
        {
          "output_type": "stream",
          "name": "stdout",
          "text": "2.5.0\n"
        }
      ],
      "execution_count": 28,
      "metadata": {
        "jupyter": {
          "source_hidden": false,
          "outputs_hidden": false
        },
        "nteract": {
          "transient": {
            "deleting": false
          }
        },
        "gather": {
          "logged": 1728055058857
        },
        "editable": true,
        "run_control": {
          "frozen": false
        }
      }
    },
    {
      "cell_type": "code",
      "source": [
        "print(price_training_df.shape)"
      ],
      "outputs": [
        {
          "output_type": "stream",
          "name": "stdout",
          "text": "(1465, 18)\n"
        }
      ],
      "execution_count": 29,
      "metadata": {
        "jupyter": {
          "source_hidden": false,
          "outputs_hidden": false
        },
        "nteract": {
          "transient": {
            "deleting": false
          }
        },
        "gather": {
          "logged": 1728055059387
        }
      }
    },
    {
      "cell_type": "code",
      "source": [
        "X = price_training_df.drop(\"actual_price\", axis=1).values\n",
        "y = price_training_df[\"actual_price\"].values\n",
        "\n",
        "scaler = StandardScaler()\n",
        "X_scaled = scaler.fit_transform(X)\n",
        "scaler_y = StandardScaler()\n",
        "y_scaled = scaler_y.fit_transform(y.reshape(-1, 1))\n",
        "dataset = tf.data.Dataset.from_tensor_slices((X_scaled, y_scaled))\n",
        "\n",
        "dataset = dataset.shuffle(buffer_size=len(X))\n",
        "\n",
        "train_size = int(0.8*len(X))\n",
        "train_data = dataset.take(train_size)\n",
        "test_data = dataset.skip(train_size)\n",
        "\n",
        "batch_siz = 32\n",
        "train_data = train_data.batch(batch_siz)\n",
        "test_data = test_data.batch(batch_siz)\n",
        "\n",
        "for X_batch, y_batch in train_data.take(1):\n",
        "    print(\"Train dataset feature batch shape:\", X_batch.shape)\n",
        "    print(\"Train dataset target batch shape:\", y_batch.shape)\n",
        "\n",
        "for X_batch, y_batch in test_data.take(1):\n",
        "    print(\"Test dataset feature batch shape:\", X_batch.shape)\n",
        "    print(\"Test dataset target batch shape:\", y_batch.shape)"
      ],
      "outputs": [
        {
          "output_type": "stream",
          "name": "stderr",
          "text": "2024-10-04 15:17:41.345080: I tensorflow/stream_executor/platform/default/dso_loader.cc:53] Successfully opened dynamic library libcuda.so.1\n2024-10-04 15:17:46.869031: E tensorflow/stream_executor/cuda/cuda_driver.cc:328] failed call to cuInit: CUDA_ERROR_NO_DEVICE: no CUDA-capable device is detected\n2024-10-04 15:17:46.869160: I tensorflow/stream_executor/cuda/cuda_diagnostics.cc:156] kernel driver does not appear to be running on this host (syurmen21): /proc/driver/nvidia/version does not exist\n2024-10-04 15:17:46.875606: I tensorflow/core/platform/cpu_feature_guard.cc:142] This TensorFlow binary is optimized with oneAPI Deep Neural Network Library (oneDNN) to use the following CPU instructions in performance-critical operations:  AVX2 AVX512F FMA\nTo enable them in other operations, rebuild TensorFlow with the appropriate compiler flags.\n"
        },
        {
          "output_type": "stream",
          "name": "stdout",
          "text": "Train dataset feature batch shape: (32, 17)\nTrain dataset target batch shape: (32, 1)\nTest dataset feature batch shape: (32, 17)\nTest dataset target batch shape: (32, 1)\n"
        }
      ],
      "execution_count": 30,
      "metadata": {
        "jupyter": {
          "source_hidden": false,
          "outputs_hidden": false
        },
        "nteract": {
          "transient": {
            "deleting": false
          }
        },
        "gather": {
          "logged": 1728055064698
        }
      }
    },
    {
      "cell_type": "code",
      "source": [
        "model = Sequential([\n",
        "    Dense(64, activation=\"relu\", input_shape=(X.shape[1],)),\n",
        "    Dense(32, activation=\"relu\"),\n",
        "    Dense(1)\n",
        "])\n",
        "\n",
        "model.compile(optimizer=\"adam\", loss=\"mse\", metrics=[\"mae\"])\n",
        "\n",
        "history = model.fit(train_data, epochs=30, validation_data=test_data)"
      ],
      "outputs": [
        {
          "output_type": "stream",
          "name": "stdout",
          "text": "Epoch 1/30\n37/37 [==============================] - 1s 4ms/step - loss: 0.5939 - mae: 0.4309 - val_loss: 0.2796 - val_mae: 0.2825\b\b\b\b\b\b\b\b\b\b\b\b\b\b\b\b\b\b\b\b\b\b\b\b\b\b\b\b\b\b\b\b\b\b\b\b\b\b\nEpoch 2/30\n37/37 [==============================] - 0s 1ms/step - loss: 0.1734 - mae: 0.2197 - val_loss: 0.1340 - val_mae: 0.1714\b\b\b\b\b\b\b\b\b\b\b\b\b\b\b\b\b\b\b\b\b\b\b\b\b\b\b\b\b\b\b\b\b\b\b\b\nEpoch 3/30\n37/37 [==============================] - 0s 1ms/step - loss: 0.0818 - mae: 0.1594 - val_loss: 0.0597 - val_mae: 0.1429\b\b\b\b\b\b\b\b\b\b\b\b\b\b\b\b\b\b\b\b\b\b\b\b\b\b\b\b\b\b\b\b\b\b\b\b\nEpoch 4/30\n37/37 [==============================] - 0s 1ms/step - loss: 0.1056 - mae: 0.1572 - val_loss: 0.0424 - val_mae: 0.1166\b\b\b\b\b\b\b\b\b\b\b\b\b\b\b\b\b\b\b\b\b\b\b\b\b\b\b\b\b\b\b\b\b\b\b\b\nEpoch 5/30\n37/37 [==============================] - 0s 1ms/step - loss: 0.0786 - mae: 0.1375 - val_loss: 0.0477 - val_mae: 0.1126\b\b\b\b\b\b\b\b\b\b\b\b\b\b\b\b\b\b\b\b\b\b\b\b\b\b\b\b\b\b\b\b\b\b\b\b\nEpoch 6/30\n37/37 [==============================] - 0s 1ms/step - loss: 0.0585 - mae: 0.1167 - val_loss: 0.0387 - val_mae: 0.1179\b\b\b\b\b\b\b\b\b\b\b\b\b\b\b\b\b\b\b\b\b\b\b\b\b\b\b\b\b\b\b\b\b\b\b\b\nEpoch 7/30\n37/37 [==============================] - 0s 1ms/step - loss: 0.0433 - mae: 0.1026 - val_loss: 0.0287 - val_mae: 0.0894\b\b\b\b\b\b\b\b\b\b\b\b\b\b\b\b\b\b\b\b\b\b\b\b\b\b\b\b\b\b\b\b\b\b\b\b\nEpoch 8/30\n37/37 [==============================] - 0s 1ms/step - loss: 0.0384 - mae: 0.0955 - val_loss: 0.0500 - val_mae: 0.0973\b\b\b\b\b\b\b\b\b\b\b\b\b\b\b\b\b\b\b\b\b\b\b\b\b\b\b\b\b\b\b\b\b\b\b\b\nEpoch 9/30\n37/37 [==============================] - 0s 1ms/step - loss: 0.0345 - mae: 0.0906 - val_loss: 0.0294 - val_mae: 0.0969\b\b\b\b\b\b\b\b\b\b\b\b\b\b\b\b\b\b\b\b\b\b\b\b\b\b\b\b\b\b\b\b\b\b\b\b\nEpoch 10/30\n37/37 [==============================] - 0s 1ms/step - loss: 0.0423 - mae: 0.0945 - val_loss: 0.0316 - val_mae: 0.0857\b\b\b\b\b\b\b\b\b\b\b\b\b\b\b\b\b\b\b\b\b\b\b\b\b\b\b\b\b\b\b\b\b\b\b\b\nEpoch 11/30\n37/37 [==============================] - 0s 1ms/step - loss: 0.0475 - mae: 0.1018 - val_loss: 0.0101 - val_mae: 0.0725\b\b\b\b\b\b\b\b\b\b\b\b\b\b\b\b\b\b\b\b\b\b\b\b\b\b\b\b\b\b\b\b\b\b\b\b\nEpoch 12/30\n37/37 [==============================] - 0s 1ms/step - loss: 0.0445 - mae: 0.0889 - val_loss: 0.0397 - val_mae: 0.0928\b\b\b\b\b\b\b\b\b\b\b\b\b\b\b\b\b\b\b\b\b\b\b\b\b\b\b\b\b\b\b\b\b\b\b\b\nEpoch 13/30\n37/37 [==============================] - 0s 1ms/step - loss: 0.0334 - mae: 0.0853 - val_loss: 0.0154 - val_mae: 0.0681\b\b\b\b\b\b\b\b\b\b\b\b\b\b\b\b\b\b\b\b\b\b\b\b\b\b\b\b\b\b\b\b\b\b\b\b\nEpoch 14/30\n37/37 [==============================] - 0s 1ms/step - loss: 0.0203 - mae: 0.0720 - val_loss: 0.0109 - val_mae: 0.0697\b\b\b\b\b\b\b\b\b\b\b\b\b\b\b\b\b\b\b\b\b\b\b\b\b\b\b\b\b\b\b\b\b\b\b\b\nEpoch 15/30\n37/37 [==============================] - 0s 1ms/step - loss: 0.0246 - mae: 0.0747 - val_loss: 0.0182 - val_mae: 0.0888\b\b\b\b\b\b\b\b\b\b\b\b\b\b\b\b\b\b\b\b\b\b\b\b\b\b\b\b\b\b\b\b\b\b\b\b\nEpoch 16/30\n37/37 [==============================] - 0s 1ms/step - loss: 0.0295 - mae: 0.0775 - val_loss: 0.0323 - val_mae: 0.0910\b\b\b\b\b\b\b\b\b\b\b\b\b\b\b\b\b\b\b\b\b\b\b\b\b\b\b\b\b\b\b\b\b\b\b\b\nEpoch 17/30\n37/37 [==============================] - 0s 1ms/step - loss: 0.0529 - mae: 0.0898 - val_loss: 0.0075 - val_mae: 0.0610\b\b\b\b\b\b\b\b\b\b\b\b\b\b\b\b\b\b\b\b\b\b\b\b\b\b\b\b\b\b\b\b\b\b\b\b\nEpoch 18/30\n37/37 [==============================] - 0s 1ms/step - loss: 0.0183 - mae: 0.0649 - val_loss: 0.0061 - val_mae: 0.0526\b\b\b\b\b\b\b\b\b\b\b\b\b\b\b\b\b\b\b\b\b\b\b\b\b\b\b\b\b\b\b\b\b\b\b\b\nEpoch 19/30\n37/37 [==============================] - 0s 1ms/step - loss: 0.0163 - mae: 0.0633 - val_loss: 0.0094 - val_mae: 0.0621\b\b\b\b\b\b\b\b\b\b\b\b\b\b\b\b\b\b\b\b\b\b\b\b\b\b\b\b\b\b\b\b\b\b\b\b\nEpoch 20/30\n37/37 [==============================] - 0s 1ms/step - loss: 0.0142 - mae: 0.0623 - val_loss: 0.0173 - val_mae: 0.0681\b\b\b\b\b\b\b\b\b\b\b\b\b\b\b\b\b\b\b\b\b\b\b\b\b\b\b\b\b\b\b\b\b\b\b\b\nEpoch 21/30\n37/37 [==============================] - 0s 1ms/step - loss: 0.0130 - mae: 0.0609 - val_loss: 0.0131 - val_mae: 0.0566\b\b\b\b\b\b\b\b\b\b\b\b\b\b\b\b\b\b\b\b\b\b\b\b\b\b\b\b\b\b\b\b\b\b\b\b\nEpoch 22/30\n37/37 [==============================] - 0s 1ms/step - loss: 0.0145 - mae: 0.0586 - val_loss: 0.0064 - val_mae: 0.0496\b\b\b\b\b\b\b\b\b\b\b\b\b\b\b\b\b\b\b\b\b\b\b\b\b\b\b\b\b\b\b\b\b\b\b\b\nEpoch 23/30\n37/37 [==============================] - 0s 1ms/step - loss: 0.0143 - mae: 0.0579 - val_loss: 0.0064 - val_mae: 0.0527\b\b\b\b\b\b\b\b\b\b\b\b\b\b\b\b\b\b\b\b\b\b\b\b\b\b\b\b\b\b\b\b\b\b\b\b\nEpoch 24/30\n37/37 [==============================] - 0s 1ms/step - loss: 0.0088 - mae: 0.0548 - val_loss: 0.0061 - val_mae: 0.0484\b\b\b\b\b\b\b\b\b\b\b\b\b\b\b\b\b\b\b\b\b\b\b\b\b\b\b\b\b\b\b\b\b\b\b\b\nEpoch 25/30\n37/37 [==============================] - 0s 1ms/step - loss: 0.0151 - mae: 0.0547 - val_loss: 0.0080 - val_mae: 0.0552\b\b\b\b\b\b\b\b\b\b\b\b\b\b\b\b\b\b\b\b\b\b\b\b\b\b\b\b\b\b\b\b\b\b\b\b\nEpoch 26/30\n37/37 [==============================] - 0s 1ms/step - loss: 0.0199 - mae: 0.0582 - val_loss: 0.0071 - val_mae: 0.0526\b\b\b\b\b\b\b\b\b\b\b\b\b\b\b\b\b\b\b\b\b\b\b\b\b\b\b\b\b\b\b\b\b\b\b\b\nEpoch 27/30\n37/37 [==============================] - 0s 1ms/step - loss: 0.0260 - mae: 0.0627 - val_loss: 0.0131 - val_mae: 0.0940\b\b\b\b\b\b\b\b\b\b\b\b\b\b\b\b\b\b\b\b\b\b\b\b\b\b\b\b\b\b\b\b\b\b\b\b\nEpoch 28/30\n37/37 [==============================] - 0s 1ms/step - loss: 0.0335 - mae: 0.0734 - val_loss: 0.0182 - val_mae: 0.0893\b\b\b\b\b\b\b\b\b\b\b\b\b\b\b\b\b\b\b\b\b\b\b\b\b\b\b\b\b\b\b\b\b\b\b\b\nEpoch 29/30\n37/37 [==============================] - 0s 2ms/step - loss: 0.0215 - mae: 0.0636 - val_loss: 0.0098 - val_mae: 0.0589\b\b\b\b\b\b\b\b\b\b\b\b\b\b\b\b\b\b\b\b\b\b\b\b\b\b\b\b\b\b\b\b\b\b\b\b\nEpoch 30/30\n37/37 [==============================] - 0s 1ms/step - loss: 0.0118 - mae: 0.0552 - val_loss: 0.0068 - val_mae: 0.0469\b\b\b\b\b\b\b\b\b\b\b\b\b\b\b\b\b\b\b\b\b\b\b\b\b\b\b\b\b\b\b\b\b\b\b\b\n"
        },
        {
          "output_type": "stream",
          "name": "stderr",
          "text": "2024-10-04 15:17:47.587016: I tensorflow/compiler/mlir/mlir_graph_optimization_pass.cc:176] None of the MLIR Optimization Passes are enabled (registered 2)\n2024-10-04 15:17:47.595429: I tensorflow/core/platform/profile_utils/cpu_utils.cc:114] CPU Frequency: 2593905000 Hz\n"
        }
      ],
      "execution_count": 31,
      "metadata": {
        "jupyter": {
          "source_hidden": false,
          "outputs_hidden": false
        },
        "nteract": {
          "transient": {
            "deleting": false
          }
        },
        "gather": {
          "logged": 1728055067396
        }
      }
    },
    {
      "cell_type": "code",
      "source": [
        "X = discounted_price_df.drop(\"discounted_price\", axis=1).values\n",
        "y = discounted_price_df[\"discounted_price\"].values\n",
        "\n",
        "scaler = StandardScaler()\n",
        "X_scaled = scaler.fit_transform(X)\n",
        "scaler_y = StandardScaler()\n",
        "y_scaled = scaler_y.fit_transform(y.reshape(-1, 1))\n",
        "dataset = tf.data.Dataset.from_tensor_slices((X_scaled, y_scaled))\n",
        "\n",
        "dataset = dataset.shuffle(buffer_size=len(X))\n",
        "\n",
        "train_size = int(0.8*len(X))\n",
        "train_data = dataset.take(train_size)\n",
        "test_data = dataset.skip(train_size)\n",
        "\n",
        "batch_siz = 32\n",
        "train_data = train_data.batch(batch_siz)\n",
        "test_data = test_data.batch(batch_siz)\n",
        "\n",
        "for X_batch, y_batch in train_data.take(1):\n",
        "    print(\"Train dataset feature batch shape:\", X_batch.shape)\n",
        "    print(\"Train dataset target batch shape:\", y_batch.shape)\n",
        "\n",
        "for X_batch, y_batch in test_data.take(1):\n",
        "    print(\"Test dataset feature batch shape:\", X_batch.shape)\n",
        "    print(\"Test dataset target batch shape:\", y_batch.shape)"
      ],
      "outputs": [
        {
          "output_type": "stream",
          "name": "stdout",
          "text": "Train dataset feature batch shape: (32, 17)\nTrain dataset target batch shape: (32, 1)\nTest dataset feature batch shape: (32, 17)\nTest dataset target batch shape: (32, 1)\n"
        }
      ],
      "execution_count": 32,
      "metadata": {
        "jupyter": {
          "source_hidden": false,
          "outputs_hidden": false
        },
        "nteract": {
          "transient": {
            "deleting": false
          }
        },
        "gather": {
          "logged": 1728055067813
        }
      }
    },
    {
      "cell_type": "code",
      "source": [
        "model = Sequential([\n",
        "    Dense(64, activation=\"relu\", input_shape=(X.shape[1],)),\n",
        "    Dense(32, activation=\"relu\"),\n",
        "    Dense(1)\n",
        "])\n",
        "\n",
        "model.compile(optimizer=\"adam\", loss=\"mse\", metrics=[\"mae\"])\n",
        "\n",
        "history = model.fit(train_data, epochs=30, validation_data=test_data)"
      ],
      "outputs": [
        {
          "output_type": "stream",
          "name": "stdout",
          "text": "Epoch 1/30\n37/37 [==============================] - 0s 3ms/step - loss: 0.6014 - mae: 0.3847 - val_loss: 0.2898 - val_mae: 0.2590\b\b\b\b\b\b\b\b\b\b\b\b\b\b\b\b\b\b\b\b\b\b\b\b\b\b\b\b\b\b\b\b\b\b\b\b\nEpoch 2/30\n37/37 [==============================] - 0s 1ms/step - loss: 0.1863 - mae: 0.2137 - val_loss: 0.0669 - val_mae: 0.1515\b\b\b\b\b\b\b\b\b\b\b\b\b\b\b\b\b\b\b\b\b\b\b\b\b\b\b\b\b\b\b\b\b\b\b\b\nEpoch 3/30\n37/37 [==============================] - 0s 1ms/step - loss: 0.1095 - mae: 0.1583 - val_loss: 0.0689 - val_mae: 0.1428\b\b\b\b\b\b\b\b\b\b\b\b\b\b\b\b\b\b\b\b\b\b\b\b\b\b\b\b\b\b\b\b\b\b\b\b\nEpoch 4/30\n37/37 [==============================] - 0s 1ms/step - loss: 0.0630 - mae: 0.1222 - val_loss: 0.0476 - val_mae: 0.1154\b\b\b\b\b\b\b\b\b\b\b\b\b\b\b\b\b\b\b\b\b\b\b\b\b\b\b\b\b\b\b\b\b\b\b\b\nEpoch 5/30\n37/37 [==============================] - 0s 1ms/step - loss: 0.0464 - mae: 0.1043 - val_loss: 0.0603 - val_mae: 0.1003\b\b\b\b\b\b\b\b\b\b\b\b\b\b\b\b\b\b\b\b\b\b\b\b\b\b\b\b\b\b\b\b\b\b\b\b\nEpoch 6/30\n37/37 [==============================] - 0s 1ms/step - loss: 0.0279 - mae: 0.0868 - val_loss: 0.0170 - val_mae: 0.0737\b\b\b\b\b\b\b\b\b\b\b\b\b\b\b\b\b\b\b\b\b\b\b\b\b\b\b\b\b\b\b\b\b\b\b\b\nEpoch 7/30\n37/37 [==============================] - 0s 1ms/step - loss: 0.0179 - mae: 0.0726 - val_loss: 0.0198 - val_mae: 0.0683\b\b\b\b\b\b\b\b\b\b\b\b\b\b\b\b\b\b\b\b\b\b\b\b\b\b\b\b\b\b\b\b\b\b\b\b\nEpoch 8/30\n37/37 [==============================] - 0s 1ms/step - loss: 0.0135 - mae: 0.0671 - val_loss: 0.0140 - val_mae: 0.0660\b\b\b\b\b\b\b\b\b\b\b\b\b\b\b\b\b\b\b\b\b\b\b\b\b\b\b\b\b\b\b\b\b\b\b\b\nEpoch 9/30\n37/37 [==============================] - 0s 1ms/step - loss: 0.0178 - mae: 0.0688 - val_loss: 0.0229 - val_mae: 0.0802\b\b\b\b\b\b\b\b\b\b\b\b\b\b\b\b\b\b\b\b\b\b\b\b\b\b\b\b\b\b\b\b\b\b\b\b\nEpoch 10/30\n37/37 [==============================] - 0s 1ms/step - loss: 0.0169 - mae: 0.0672 - val_loss: 0.0363 - val_mae: 0.0763\b\b\b\b\b\b\b\b\b\b\b\b\b\b\b\b\b\b\b\b\b\b\b\b\b\b\b\b\b\b\b\b\b\b\b\b\nEpoch 11/30\n37/37 [==============================] - 0s 1ms/step - loss: 0.0161 - mae: 0.0627 - val_loss: 0.0308 - val_mae: 0.0663\b\b\b\b\b\b\b\b\b\b\b\b\b\b\b\b\b\b\b\b\b\b\b\b\b\b\b\b\b\b\b\b\b\b\b\b\nEpoch 12/30\n37/37 [==============================] - 0s 1ms/step - loss: 0.0156 - mae: 0.0622 - val_loss: 0.0091 - val_mae: 0.0607\b\b\b\b\b\b\b\b\b\b\b\b\b\b\b\b\b\b\b\b\b\b\b\b\b\b\b\b\b\b\b\b\b\b\b\b\nEpoch 13/30\n37/37 [==============================] - 0s 1ms/step - loss: 0.0154 - mae: 0.0606 - val_loss: 0.0057 - val_mae: 0.0492\b\b\b\b\b\b\b\b\b\b\b\b\b\b\b\b\b\b\b\b\b\b\b\b\b\b\b\b\b\b\b\b\b\b\b\b\nEpoch 14/30\n37/37 [==============================] - 0s 1ms/step - loss: 0.0084 - mae: 0.0493 - val_loss: 0.0071 - val_mae: 0.0490\b\b\b\b\b\b\b\b\b\b\b\b\b\b\b\b\b\b\b\b\b\b\b\b\b\b\b\b\b\b\b\b\b\b\b\b\nEpoch 15/30\n37/37 [==============================] - 0s 1ms/step - loss: 0.0083 - mae: 0.0505 - val_loss: 0.0071 - val_mae: 0.0473\b\b\b\b\b\b\b\b\b\b\b\b\b\b\b\b\b\b\b\b\b\b\b\b\b\b\b\b\b\b\b\b\b\b\b\b\nEpoch 16/30\n37/37 [==============================] - 0s 1ms/step - loss: 0.0157 - mae: 0.0549 - val_loss: 0.0061 - val_mae: 0.0486\b\b\b\b\b\b\b\b\b\b\b\b\b\b\b\b\b\b\b\b\b\b\b\b\b\b\b\b\b\b\b\b\b\b\b\b\nEpoch 17/30\n37/37 [==============================] - 0s 1ms/step - loss: 0.0194 - mae: 0.0600 - val_loss: 0.0049 - val_mae: 0.0462\b\b\b\b\b\b\b\b\b\b\b\b\b\b\b\b\b\b\b\b\b\b\b\b\b\b\b\b\b\b\b\b\b\b\b\b\nEpoch 18/30\n37/37 [==============================] - 0s 1ms/step - loss: 0.0132 - mae: 0.0517 - val_loss: 0.0092 - val_mae: 0.0625\b\b\b\b\b\b\b\b\b\b\b\b\b\b\b\b\b\b\b\b\b\b\b\b\b\b\b\b\b\b\b\b\b\b\b\b\nEpoch 19/30\n37/37 [==============================] - 0s 1ms/step - loss: 0.0192 - mae: 0.0585 - val_loss: 0.0210 - val_mae: 0.0783\b\b\b\b\b\b\b\b\b\b\b\b\b\b\b\b\b\b\b\b\b\b\b\b\b\b\b\b\b\b\b\b\b\b\b\b\nEpoch 20/30\n37/37 [==============================] - 0s 1ms/step - loss: 0.0484 - mae: 0.0731 - val_loss: 0.0154 - val_mae: 0.0901\b\b\b\b\b\b\b\b\b\b\b\b\b\b\b\b\b\b\b\b\b\b\b\b\b\b\b\b\b\b\b\b\b\b\b\b\nEpoch 21/30\n37/37 [==============================] - 0s 1ms/step - loss: 0.0424 - mae: 0.0616 - val_loss: 0.0240 - val_mae: 0.1001\b\b\b\b\b\b\b\b\b\b\b\b\b\b\b\b\b\b\b\b\b\b\b\b\b\b\b\b\b\b\b\b\b\b\b\b\nEpoch 22/30\n37/37 [==============================] - 0s 1ms/step - loss: 0.0177 - mae: 0.0699 - val_loss: 0.0555 - val_mae: 0.0551\b\b\b\b\b\b\b\b\b\b\b\b\b\b\b\b\b\b\b\b\b\b\b\b\b\b\b\b\b\b\b\b\b\b\b\b\nEpoch 23/30\n37/37 [==============================] - 0s 1ms/step - loss: 0.0083 - mae: 0.0418 - val_loss: 0.0037 - val_mae: 0.0411\b\b\b\b\b\b\b\b\b\b\b\b\b\b\b\b\b\b\b\b\b\b\b\b\b\b\b\b\b\b\b\b\b\b\b\b\nEpoch 24/30\n37/37 [==============================] - 0s 1ms/step - loss: 0.0194 - mae: 0.0539 - val_loss: 0.0037 - val_mae: 0.0418\b\b\b\b\b\b\b\b\b\b\b\b\b\b\b\b\b\b\b\b\b\b\b\b\b\b\b\b\b\b\b\b\b\b\b\b\nEpoch 25/30\n37/37 [==============================] - 0s 1ms/step - loss: 0.0131 - mae: 0.0482 - val_loss: 0.0128 - val_mae: 0.0455\b\b\b\b\b\b\b\b\b\b\b\b\b\b\b\b\b\b\b\b\b\b\b\b\b\b\b\b\b\b\b\b\b\b\b\b\nEpoch 26/30\n37/37 [==============================] - 0s 1ms/step - loss: 0.0073 - mae: 0.0432 - val_loss: 0.0077 - val_mae: 0.0422\b\b\b\b\b\b\b\b\b\b\b\b\b\b\b\b\b\b\b\b\b\b\b\b\b\b\b\b\b\b\b\b\b\b\b\b\nEpoch 27/30\n37/37 [==============================] - 0s 1ms/step - loss: 0.0072 - mae: 0.0413 - val_loss: 0.0025 - val_mae: 0.0344\b\b\b\b\b\b\b\b\b\b\b\b\b\b\b\b\b\b\b\b\b\b\b\b\b\b\b\b\b\b\b\b\b\b\b\b\nEpoch 28/30\n37/37 [==============================] - 0s 1ms/step - loss: 0.0046 - mae: 0.0381 - val_loss: 0.0034 - val_mae: 0.0320\b\b\b\b\b\b\b\b\b\b\b\b\b\b\b\b\b\b\b\b\b\b\b\b\b\b\b\b\b\b\b\b\b\b\b\b\nEpoch 29/30\n37/37 [==============================] - 0s 1ms/step - loss: 0.0036 - mae: 0.0333 - val_loss: 0.0034 - val_mae: 0.0294\b\b\b\b\b\b\b\b\b\b\b\b\b\b\b\b\b\b\b\b\b\b\b\b\b\b\b\b\b\b\b\b\b\b\b\b\nEpoch 30/30\n37/37 [==============================] - 0s 1ms/step - loss: 0.0034 - mae: 0.0333 - val_loss: 0.0028 - val_mae: 0.0337\b\b\b\b\b\b\b\b\b\b\b\b\b\b\b\b\b\b\b\b\b\b\b\b\b\b\b\b\b\b\b\b\b\b\b\b\n"
        }
      ],
      "execution_count": 33,
      "metadata": {
        "jupyter": {
          "source_hidden": false,
          "outputs_hidden": false
        },
        "nteract": {
          "transient": {
            "deleting": false
          }
        },
        "gather": {
          "logged": 1728055069523
        }
      }
    }
  ],
  "metadata": {
    "kernel_info": {
      "name": "python38-azureml"
    },
    "kernelspec": {
      "name": "python38-azureml",
      "language": "python",
      "display_name": "Python 3.8 - AzureML"
    },
    "language_info": {
      "name": "python",
      "version": "3.9.19",
      "mimetype": "text/x-python",
      "codemirror_mode": {
        "name": "ipython",
        "version": 3
      },
      "pygments_lexer": "ipython3",
      "nbconvert_exporter": "python",
      "file_extension": ".py"
    },
    "microsoft": {
      "host": {
        "AzureML": {
          "notebookHasBeenCompleted": true
        }
      },
      "ms_spell_check": {
        "ms_spell_check_language": "en"
      }
    },
    "nteract": {
      "version": "nteract-front-end@1.0.0"
    }
  },
  "nbformat": 4,
  "nbformat_minor": 2
}